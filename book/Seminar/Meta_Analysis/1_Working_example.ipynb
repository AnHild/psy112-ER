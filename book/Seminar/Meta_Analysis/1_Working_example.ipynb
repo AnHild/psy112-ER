{
 "cells": [
  {
   "cell_type": "markdown",
   "metadata": {},
   "source": [
    "## A working example\n",
    "\n",
    "In this session you will work with an adapted version of the data frame found in https://www.imbiintern.uni-freiburg.de/lehre/lehrbuecher/meta-analysis-with-r.\n",
    "\n",
    "The `pre_data` data frame contains information from several studies investigating the effect of a novel therapy on cognitive development delay, which is normally observed in preterm-born individuals. In these studies, preterm infants were allocated to either a control or an experimental group. The experimental group underwent the novel therapy twice a week. The outcome variable is a continuous variable indicating delay in several functional domains. Higher scores indicate a higher developmental delay. Each row in our `pre_data` represents one individual study and the columns correspond to sample size, outcome variable mean and outcome variable standard deviation of the experimental and control groups, respectively. The \"duration\" column specifies the duration of the therapy. Note that all studies included in the data frame adopted the same type of design. That is, they all included one treatment and one control group. (In reality, single studies are more heterogeneous. For this introductory tutorial we however keep things simple and focus on the basics).\n",
    "\n",
    "Please inspect the data frame in the following code chunk."
   ]
  },
  {
   "cell_type": "code",
   "execution_count": 1,
   "metadata": {},
   "outputs": [
    {
     "name": "stdout",
     "output_type": "stream",
     "text": [
      "             author  n_exp  mean_exp  std_exp  n_con  mean_con  std_con  \\\n",
      "0   Blashki(75%150)     13       6.4      5.4     18      11.4      9.6   \n",
      "1    Hormazabal(86)     17      11.0      8.2     16      19.0      8.2   \n",
      "2  Jacobson(75-100)     10      17.5      8.8      6      23.0      8.8   \n",
      "3       Jenkins(75)      7      12.3      9.9      7      20.0     10.5   \n",
      "4    Lecrubier(100)     73      15.7     10.6     73      18.7     10.6   \n",
      "\n",
      "    duration  \n",
      "0  > 2 weeks  \n",
      "1  > 2 weeks  \n",
      "2  > 2 weeks  \n",
      "3  > 2 weeks  \n",
      "4  > 2 weeks  \n"
     ]
    }
   ],
   "source": [
    "import pandas as pd\n",
    "\n",
    "# Read the CSV file\n",
    "pre_data = pd.read_csv(f\"../Meta_Analysis/Datasets/dataset02.csv\")\n",
    "\n",
    "# Rename columns 2 to 7\n",
    "pre_data.columns.values[1:7] = [\"n_exp\", \"mean_exp\", \"std_exp\", \"n_con\", \"mean_con\", \"std_con\"]\n",
    "\n",
    "# Add a new column 'duration' with values based on the number of rows\n",
    "pre_data[\"duration\"] = [\"> 2 weeks\"] * 8 + [\"< 2 weeks\"] * 9\n",
    "\n",
    "# Display the first few rows of the dataframe\n",
    "print(pre_data.head())"
   ]
  }
 ],
 "metadata": {
  "kernelspec": {
   "display_name": "Python 3",
   "language": "python",
   "name": "python3"
  },
  "language_info": {
   "codemirror_mode": {
    "name": "ipython",
    "version": 3
   },
   "file_extension": ".py",
   "mimetype": "text/x-python",
   "name": "python",
   "nbconvert_exporter": "python",
   "pygments_lexer": "ipython3",
   "version": "3.11.0"
  }
 },
 "nbformat": 4,
 "nbformat_minor": 2
}
