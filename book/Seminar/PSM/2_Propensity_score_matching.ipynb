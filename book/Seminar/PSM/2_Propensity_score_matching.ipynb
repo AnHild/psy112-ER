{
 "cells": [
  {
   "cell_type": "markdown",
   "metadata": {},
   "source": [
    "## Propensity Score Matching\n",
    "### 1. Concept\n",
    "\n",
    "**PSM** constitutes a powerful technique in the context of observational studies. It aims to improve the study design by identifying the best comparable observational units (e.g., individuals, schools, companies etc.) to be included in the investigation. This capability is highly relevant because it permits observational studies to resemble one of the most important characteristics of purely experimental designs: **Random allocation of observational units to treatment conditions** (e.g., the levels of an independent variable). \n",
    "\n",
    "In a **RCT** study, often thought of as the gold standard approach to estimate treatment effects, the influence of potential confounders is reduced by random allocation of observational units to treatment conditions. This ensures that in each intervention group (e.g. therapy and control), relevant variables that might significantly explain variance in an outcome variable are balanced between the groups, thus minimizing their explanatory power across groups. In our example, we aim to compare individuals in terms of their facial emotion recognition performance. However, the literature suggests that fluid intelligence, biological sex and age are significantly related to this outcome variable. If one of the two groups were formed by individuals who are in general more intelligent, older, and mostly females, conclusions drawn in regard to the impact of an independent variable would not be **reliable** because observed differences in the dependent variable might have been caused by sex, intelligence or age (confounder effects). By randomly allocating participants to either group, we expect these variables to be balanced across the groups and therefore, not to have an effect on group differences on the outcome variable. Great! We have a chance to increase the **internal validity** of our experiment by minimizing the role of external variables (confounders). The problem is that in evaluation research, it is rarely possible to assign units to treatment groups by a random allocation. \n",
    "\n",
    "In fact, evaluation research normally deals with scenarios in which groups are already constituted, for instance when comparing classes within a school, individuals from different companies or when investigating **subject variables**. That is, if we want to compare participants with and without an autism disorder diagnostic, it would not make sense to randomly allocate participants in a control group and an intervention group, as the intervention group is by definition, formed by participants with autism disorder. **PSM** allows us to create different groups in which the effect of confounders is minimized by matching observational units accounting for covariates. In brief, **PSM** yields treatment groups that are equivalent in a set of relevant variables, in our example, biological sex, age and fluid intelligence. \n",
    "\n",
    "**Propensity scores** are **probabilities** of treatment assignment given covariate values at baseline. They are said to be balancing scores because conditional on them, the covariates' distributions are similar across groups. This means that in a set of individuals with similar propensity scores, the covariates' distributions are similar in the control and intervention groups.  \n",
    "\n",
    "Let us see how it works. First, let us load our data again and perform some preprocessing:"
   ]
  },
  {
   "cell_type": "code",
   "execution_count": 2,
   "metadata": {},
   "outputs": [
    {
     "name": "stdout",
     "output_type": "stream",
     "text": [
      "The rpy2.ipython extension is already loaded. To reload it, use:\n",
      "  %reload_ext rpy2.ipython\n",
      "   group  b_sex  Subject_id   age  f_inte  id\n",
      "0      1      0       10001  12.0      28   0\n",
      "1      1      0       10002   8.0      19   1\n",
      "2      1      0       10003  13.0      27   2\n",
      "3      1      1       11004  12.0      24   3\n",
      "4      1      1       11005  14.0      41   4\n"
     ]
    },
    {
     "data": {
      "text/html": [
       "<div>\n",
       "<style scoped>\n",
       "    .dataframe tbody tr th:only-of-type {\n",
       "        vertical-align: middle;\n",
       "    }\n",
       "\n",
       "    .dataframe tbody tr th {\n",
       "        vertical-align: top;\n",
       "    }\n",
       "\n",
       "    .dataframe thead th {\n",
       "        text-align: right;\n",
       "    }\n",
       "</style>\n",
       "<table border=\"1\" class=\"dataframe\">\n",
       "  <thead>\n",
       "    <tr style=\"text-align: right;\">\n",
       "      <th></th>\n",
       "      <th>group</th>\n",
       "      <th>b_sex</th>\n",
       "      <th>Subject_id</th>\n",
       "      <th>age</th>\n",
       "      <th>f_inte</th>\n",
       "      <th>id</th>\n",
       "    </tr>\n",
       "  </thead>\n",
       "  <tbody>\n",
       "    <tr>\n",
       "      <th>0</th>\n",
       "      <td>1</td>\n",
       "      <td>0</td>\n",
       "      <td>10001</td>\n",
       "      <td>12.0</td>\n",
       "      <td>28</td>\n",
       "      <td>0</td>\n",
       "    </tr>\n",
       "    <tr>\n",
       "      <th>1</th>\n",
       "      <td>1</td>\n",
       "      <td>0</td>\n",
       "      <td>10002</td>\n",
       "      <td>8.0</td>\n",
       "      <td>19</td>\n",
       "      <td>1</td>\n",
       "    </tr>\n",
       "    <tr>\n",
       "      <th>2</th>\n",
       "      <td>1</td>\n",
       "      <td>0</td>\n",
       "      <td>10003</td>\n",
       "      <td>13.0</td>\n",
       "      <td>27</td>\n",
       "      <td>2</td>\n",
       "    </tr>\n",
       "    <tr>\n",
       "      <th>3</th>\n",
       "      <td>1</td>\n",
       "      <td>1</td>\n",
       "      <td>11004</td>\n",
       "      <td>12.0</td>\n",
       "      <td>24</td>\n",
       "      <td>3</td>\n",
       "    </tr>\n",
       "    <tr>\n",
       "      <th>4</th>\n",
       "      <td>1</td>\n",
       "      <td>1</td>\n",
       "      <td>11005</td>\n",
       "      <td>14.0</td>\n",
       "      <td>41</td>\n",
       "      <td>4</td>\n",
       "    </tr>\n",
       "    <tr>\n",
       "      <th>...</th>\n",
       "      <td>...</td>\n",
       "      <td>...</td>\n",
       "      <td>...</td>\n",
       "      <td>...</td>\n",
       "      <td>...</td>\n",
       "      <td>...</td>\n",
       "    </tr>\n",
       "    <tr>\n",
       "      <th>162</th>\n",
       "      <td>0</td>\n",
       "      <td>1</td>\n",
       "      <td>21163</td>\n",
       "      <td>11.0</td>\n",
       "      <td>31</td>\n",
       "      <td>161</td>\n",
       "    </tr>\n",
       "    <tr>\n",
       "      <th>163</th>\n",
       "      <td>0</td>\n",
       "      <td>1</td>\n",
       "      <td>21164</td>\n",
       "      <td>18.0</td>\n",
       "      <td>35</td>\n",
       "      <td>162</td>\n",
       "    </tr>\n",
       "    <tr>\n",
       "      <th>164</th>\n",
       "      <td>0</td>\n",
       "      <td>1</td>\n",
       "      <td>21169</td>\n",
       "      <td>13.0</td>\n",
       "      <td>27</td>\n",
       "      <td>163</td>\n",
       "    </tr>\n",
       "    <tr>\n",
       "      <th>165</th>\n",
       "      <td>0</td>\n",
       "      <td>1</td>\n",
       "      <td>21170</td>\n",
       "      <td>14.0</td>\n",
       "      <td>25</td>\n",
       "      <td>164</td>\n",
       "    </tr>\n",
       "    <tr>\n",
       "      <th>166</th>\n",
       "      <td>0</td>\n",
       "      <td>1</td>\n",
       "      <td>21171</td>\n",
       "      <td>13.0</td>\n",
       "      <td>33</td>\n",
       "      <td>165</td>\n",
       "    </tr>\n",
       "  </tbody>\n",
       "</table>\n",
       "<p>166 rows × 6 columns</p>\n",
       "</div>"
      ],
      "text/plain": [
       "     group  b_sex  Subject_id   age  f_inte   id\n",
       "0        1      0       10001  12.0      28    0\n",
       "1        1      0       10002   8.0      19    1\n",
       "2        1      0       10003  13.0      27    2\n",
       "3        1      1       11004  12.0      24    3\n",
       "4        1      1       11005  14.0      41    4\n",
       "..     ...    ...         ...   ...     ...  ...\n",
       "162      0      1       21163  11.0      31  161\n",
       "163      0      1       21164  18.0      35  162\n",
       "164      0      1       21169  13.0      27  163\n",
       "165      0      1       21170  14.0      25  164\n",
       "166      0      1       21171  13.0      33  165\n",
       "\n",
       "[166 rows x 6 columns]"
      ]
     },
     "execution_count": 2,
     "metadata": {},
     "output_type": "execute_result"
    }
   ],
   "source": [
    "#######################################################\n",
    "## Specify R environment for rpy2\n",
    "#import os\n",
    "#os.environ['R_HOME'] = r'C:\\Program Files\\R\\R-4.4.3'  # Replace with your R path\n",
    "import rpy2.robjects as ro\n",
    "from rpy2.robjects import pandas2ri\n",
    "from rpy2.robjects.packages import importr\n",
    "from rpy2.robjects import Formula\n",
    "import contextlib\n",
    "# Ipython extension for plotting\n",
    "%load_ext rpy2.ipython\n",
    "########################################################\n",
    "\n",
    "import warnings\n",
    "warnings.filterwarnings('ignore')\n",
    "\n",
    "import pandas as pd\n",
    "import pingouin as pg\n",
    "\n",
    "\n",
    "# Read the CSV file using a relative path\n",
    "## Data frame\n",
    "AU = pd.read_csv(f\"../PSM/Datasets/AU.txt\", sep=\"\\t\", escapechar='\"', skipinitialspace=True)\n",
    "KG = pd.read_csv(f\"../PSM/Datasets/KG.txt\", sep=\"\\t\", escapechar='\"', skipinitialspace=True)\n",
    "\n",
    "\n",
    "# Combine the AU and KG datasets\n",
    "au_data = pd.concat([AU, KG], ignore_index=True)\n",
    "\n",
    "# Select specific columns\n",
    "au_data = au_data[[\"Gruppe\", \"Geschlecht\", \"Subject_id\", \"Alter\", \"Gminiq3\"]]\n",
    "\n",
    "# Remove rows with missing values\n",
    "au_data = au_data.dropna()\n",
    "\n",
    "# Rename the columns\n",
    "au_data.columns = [\"group\", \"b_sex\", \"Subject_id\", \"age\", \"f_inte\"]\n",
    "\n",
    "# Convert the 'group' column to numeric\n",
    "au_data[\"group\"] = pd.to_numeric(au_data[\"group\"])\n",
    "\n",
    "# Add an ID column\n",
    "au_data['id'] = range(au_data.shape[0])\n",
    "\n",
    "# Display the first few rows of the processed data\n",
    "print(au_data.head())\n",
    "au_data"
   ]
  },
  {
   "cell_type": "markdown",
   "metadata": {},
   "source": [
    "### 2. Between-group differences\n",
    "\n",
    "In our example, we are concerned that differences in intelligence might interfere with the effect of the novel therapy on facial emotion recognition. For illustrative purposes we will briefly investigate whether such significant differences exist:\n",
    "\n",
    "Can you think of an easy way to test whether the two groups differ with respect to fluid intelligence? \n",
    "A simple ANOVA (or simply t-test when having only two groups) will answer this question. Use the next code chuck to run an ANOVA considering the kind of design that you have (e.g., within subjects?). Feel free to use any of the functions that you learned during the first tutorials."
   ]
  },
  {
   "cell_type": "code",
   "execution_count": 3,
   "metadata": {},
   "outputs": [
    {
     "name": "stdout",
     "output_type": "stream",
     "text": [
      "One-Way ANOVA Results:\n",
      "   Source            SS   DF          MS         F     p-unc       np2\n",
      "0   group    913.634763    1  913.634763  9.458538  0.002463  0.054529\n",
      "1  Within  15841.359213  164   96.593654       NaN       NaN       NaN\n",
      "\n",
      "T-Test Results:\n",
      "               T  dof alternative     p-val          CI95%   cohen-d    BF10  \\\n",
      "T-test  3.075474  164   two-sided  0.002463  [2.24, 10.29]  0.637452  13.553   \n",
      "\n",
      "           power  \n",
      "T-test  0.863778  \n"
     ]
    }
   ],
   "source": [
    "# Perform one-way ANOVA\n",
    "anova_results = pg.anova(dv='f_inte', between='group', data=au_data, detailed=True)\n",
    "\n",
    "# Print the ANOVA results\n",
    "print(\"One-Way ANOVA Results:\")\n",
    "print(anova_results)\n",
    "\n",
    "# Perform t-test\n",
    "t_test_results = pg.ttest(au_data[au_data[\"group\"] == 0][\"f_inte\"], \n",
    "                          au_data[au_data[\"group\"] == 1][\"f_inte\"], \n",
    "                          paired=False, \n",
    "                          correction=False)\n",
    "\n",
    "# Print the t-test results\n",
    "print(\"\\nT-Test Results:\")\n",
    "print(t_test_results)"
   ]
  },
  {
   "cell_type": "markdown",
   "metadata": {},
   "source": [
    "### 3. Computation\n",
    "\n",
    "In order to conduct PSM, we can use the `matchit()` function from the `MatchIt` package in R."
   ]
  },
  {
   "cell_type": "code",
   "execution_count": 4,
   "metadata": {},
   "outputs": [
    {
     "name": "stdout",
     "output_type": "stream",
     "text": [
      "\n",
      "Call:\n",
      "matchit(formula = group ~ f_inte + b_sex + age, data = au_data, \n",
      "    method = \"nearest\", distance = \"glm\", ratio = 1)\n",
      "\n",
      "Summary of Balance for All Data:\n",
      "         Means Treated Means Control Std. Mean Diff. Var. Ratio eCDF Mean\n",
      "distance        0.2483        0.1525          0.7675     1.8190    0.2206\n",
      "f_inte         26.7857       33.0507         -0.5483     1.4521    0.1496\n",
      "b_sex           0.2857        0.4855         -0.4423          .    0.1998\n",
      "age            12.9286       13.4493         -0.1868     2.1549    0.0679\n",
      "         eCDF Max\n",
      "distance   0.4120\n",
      "f_inte     0.3949\n",
      "b_sex      0.1998\n",
      "age        0.1853\n",
      "\n",
      "Summary of Balance for Matched Data:\n",
      "         Means Treated Means Control Std. Mean Diff. Var. Ratio eCDF Mean\n",
      "distance        0.2483        0.2419          0.0518     1.1635    0.0076\n",
      "f_inte         26.7857       26.8929         -0.0094     1.2805    0.0349\n",
      "b_sex           0.2857        0.3214         -0.0791          .    0.0357\n",
      "age            12.9286       13.0357         -0.0384     1.8254    0.0643\n",
      "         eCDF Max Std. Pair Dist.\n",
      "distance   0.1429          0.0650\n",
      "f_inte     0.1786          0.2782\n",
      "b_sex      0.0357          0.5534\n",
      "age        0.2143          0.8327\n",
      "\n",
      "Sample Sizes:\n",
      "          Control Treated\n",
      "All           138      28\n",
      "Matched        28      28\n",
      "Unmatched     110       0\n",
      "Discarded       0       0\n",
      "\n",
      "\n"
     ]
    }
   ],
   "source": [
    "# Activate the pandas2ri conversion\n",
    "pandas2ri.activate()\n",
    "\n",
    "# Import the MatchIt package\n",
    "matchit = importr('MatchIt')\n",
    "\n",
    "# Put the data into the R environment\n",
    "ro.globalenv['au_data'] = pandas2ri.py2rpy(au_data)\n",
    "\n",
    "# Perform propensity score matching in R\n",
    "ro.r('''\n",
    "    library(MatchIt)\n",
    "    m_out <- matchit(group ~ f_inte + b_sex + age, data = au_data, method = \"nearest\", distance = \"glm\", ratio = 1)\n",
    "''')\n",
    "\n",
    "# Summarize the matching results in R\n",
    "m_out_summary = ro.r('summary(m_out)')\n",
    "\n",
    "# Print the summary\n",
    "print(m_out_summary)"
   ]
  },
  {
   "cell_type": "markdown",
   "metadata": {},
   "source": [
    "### 4. Output interpretation\n",
    "\n",
    "* First you will see the function that you called in the previous step.\n",
    "* Then, you will see a table summarizing information from the two data sets. The first one includes all observations in our `au_data` data set. The second one provides the same estimates but this time only **matched observations** are included. This summary includes means of all confounders in both groups and. In addition, standardized mean differences (control group score - treatment group score) for each confounder are provided. Lastly, a variance ratio and differences in empirical cumulative density function (eCDF) are presented. \n",
    "\n",
    "In general, if the matching procedure worked well, we would expect to find smaller differences between the means and the eCDF of the two groups for all covariates. That is to say, values under the \"Mean Diff\" and the \"eCDF\" columns should be lower for the output corresponding to the matched data and ideally close to 0 (Summary of balance for matched data). \n",
    "\n",
    "* The \"distance\" row represents the measures that where considered to perform the matching. In this case, the propensity scores. \n",
    "\n",
    "* Finally, the last part of the output presents the sample sizes. Note that whereas all participants from the intervention group were used, only a same-sized subsample of the control group was included. Thus, 110 participants from the control group remain unmatched. This occurred because we used the argument \"ratio=1\" when calling the `matchit()` function, which means that each observation from the treatment group should be matched to only 1 observation from the control group. This explains why the values corresponding to the treatment group were the same under both \"Summary of balance for all data:\" and \"Summary of balance for matched data:\" sections in the output. The ratio value can be changed depending on the particular research scenario. \n",
    "  \n",
    "\n",
    "Use the following code chunk to rerun the **PSM** but this time increase the ratio to 2 and have a look at the sample sizes provided by this output. Given that the ratio was changed to 2, 56 control participants were matched instead of 28."
   ]
  },
  {
   "cell_type": "code",
   "execution_count": 5,
   "metadata": {},
   "outputs": [
    {
     "name": "stdout",
     "output_type": "stream",
     "text": [
      "\n",
      "Call:\n",
      "matchit(formula = group ~ f_inte + b_sex + age, data = au_data, \n",
      "    method = \"nearest\", distance = \"glm\", ratio = 2)\n",
      "\n",
      "Summary of Balance for All Data:\n",
      "         Means Treated Means Control Std. Mean Diff. Var. Ratio eCDF Mean\n",
      "distance        0.2483        0.1525          0.7675     1.8190    0.2206\n",
      "f_inte         26.7857       33.0507         -0.5483     1.4521    0.1496\n",
      "b_sex           0.2857        0.4855         -0.4423          .    0.1998\n",
      "age            12.9286       13.4493         -0.1868     2.1549    0.0679\n",
      "         eCDF Max\n",
      "distance   0.4120\n",
      "f_inte     0.3949\n",
      "b_sex      0.1998\n",
      "age        0.1853\n",
      "\n",
      "Summary of Balance for Matched Data:\n",
      "         Means Treated Means Control Std. Mean Diff. Var. Ratio eCDF Mean\n",
      "distance        0.2483        0.2189          0.2360     1.5485    0.0403\n",
      "f_inte         26.7857       28.5357         -0.1532     1.6878    0.0683\n",
      "b_sex           0.2857        0.3036         -0.0395          .    0.0179\n",
      "age            12.9286       13.1964         -0.0961     2.3127    0.0661\n",
      "         eCDF Max Std. Pair Dist.\n",
      "distance   0.2143          0.2456\n",
      "f_inte     0.2143          0.3782\n",
      "b_sex      0.0179          0.5139\n",
      "age        0.1964          0.7750\n",
      "\n",
      "Sample Sizes:\n",
      "          Control Treated\n",
      "All           138      28\n",
      "Matched        56      28\n",
      "Unmatched      82       0\n",
      "Discarded       0       0\n",
      "\n",
      "\n"
     ]
    }
   ],
   "source": [
    "# Perform propensity score matching in R\n",
    "ro.r('''\n",
    "    library(MatchIt)\n",
    "    m_out <- matchit(group ~ f_inte + b_sex + age, data = au_data, method = \"nearest\", distance = \"glm\", ratio = 2)\n",
    "''')\n",
    "\n",
    "# Summarize the matching results in R\n",
    "m_out_summary = ro.r('summary(m_out)')\n",
    "\n",
    "# Print the summary\n",
    "print(m_out_summary)"
   ]
  },
  {
   "cell_type": "markdown",
   "metadata": {},
   "source": [
    "  \n",
    "### 5. Graphical output\n",
    "  \n",
    "In addition to the table-form output, it is possible to graphically inspect the PSM results: \n",
    "  \n",
    "#### A. Distribution of Propensity Scores\n",
    "\n",
    "The code line below displays the **Propensity Score Distributions** of matched and unmatched control and intervention groups. The first cell, under \"Unmatched Treatment Units\" is empty because all intervention observations were used for matching. This is not the case for the control group. Note that each dot under \"Matched Treatment Units\" has a corresponding dot under \"Unmatched Treatment Units\" (they are \"in line\"). This is an indication of how the matching procedure worked, meaning that the observations were matched considering their propensity scores. Finally, remember that propensity scores are probability values, so the maximal possible value is 1.\n",
    "\n",
    "The line below displays the **Propensity Score Distributions** of matched and unmatched control and intervention groups. The first cell, under \"Unmatched Treatment Units\" is empty because all intervention observations were used for matching. This is not the case for the control group. Note that each dot under \"Matched Treatment Units\" has a corresponding dot under \"Unmatched Treatment Units\" (they are \"in line\"). This is an indication of how the matching procedure worked, meaning that the observations were matched considering their propensity scores. Finally, remember that propensity scores are probability values, so the maximal possible value is 1."
   ]
  },
  {
   "cell_type": "code",
   "execution_count": 6,
   "metadata": {},
   "outputs": [
    {
     "name": "stdout",
     "output_type": "stream",
     "text": [
      "To identify the units, use first mouse button; to stop, use second.\n"
     ]
    },
    {
     "data": {
      "image/png": "[encoded data removed]",
      "text/plain": [
       "<IPython.core.display.Image object>"
      ]
     },
     "metadata": {},
     "output_type": "display_data"
    }
   ],
   "source": [
    "%%R\n",
    "plot(m_out, type = \"jitter\")"
   ]
  },
  {
   "cell_type": "markdown",
   "metadata": {},
   "source": [
    "#### B. Distribution of Propensity Histograms\n",
    "\n",
    "The `plot` below returns four histograms corresponding to intervention and control groups before and after **PSM**. In general, if the PSM properly worked, we would expect the upper and lower right figures to be more similar than the  upper and lower left figures. In other words, the propensity score distributions should be more similar between the intervention and control groups after PSM.\n"
   ]
  },
  {
   "cell_type": "code",
   "execution_count": 7,
   "metadata": {},
   "outputs": [
    {
     "data": {
      "image/png": "[encoded data removed]",
      "text/plain": [
       "<IPython.core.display.Image object>"
      ]
     },
     "metadata": {},
     "output_type": "display_data"
    }
   ],
   "source": [
    "%%R\n",
    "plot(m_out, type = \"hist\")"
   ]
  },
  {
   "cell_type": "markdown",
   "metadata": {},
   "source": [
    "### 6. Output data\n",
    "\n",
    "We can now extract the data set containing only the observations that have been matched to conduct further analysis: \n",
    "\n",
    "We now use the `match.data()` function to extract the data frame that resulted from PSM with ratio = 1. We call the data frame \"matched_au\". Then inspect the data frame and repeat the ANOVA analysis on fluid intelligence to check whether significant between-group differences remain. \n",
    "\n"
   ]
  },
  {
   "cell_type": "code",
   "execution_count": 8,
   "metadata": {},
   "outputs": [
    {
     "name": "stdout",
     "output_type": "stream",
     "text": [
      "One-Way ANOVA Results:\n",
      "   Source           SS  DF         MS         F     p-unc       np2\n",
      "0   group    57.166667   1  57.166667  0.602633  0.439809  0.007296\n",
      "1  Within  7778.642857  82  94.861498       NaN       NaN       NaN\n"
     ]
    }
   ],
   "source": [
    "# Perform match data in R\n",
    "ro.r('matched_au <- match.data(m_out)')\n",
    "\n",
    "# Convert the R DataFrame to a pandas DataFrame\n",
    "matched_au = pandas2ri.rpy2py(ro.r('matched_au'))\n",
    "\n",
    "# Perform one-way ANOVA using the matched data in Python\n",
    "anova_results = pg.anova(dv='f_inte', between='group', data=matched_au, detailed=True)\n",
    "\n",
    "# Print the ANOVA results\n",
    "print(\"One-Way ANOVA Results:\")\n",
    "print(anova_results)"
   ]
  },
  {
   "cell_type": "markdown",
   "metadata": {},
   "source": [
    "These results demonstrate that after performing PSM the two groups do not significantly differ in fluid intelligence. As such, observed differences in face processing skills are less likely to be explained by it. "
   ]
  }
 ],
 "metadata": {
  "kernelspec": {
   "display_name": "Python 3",
   "language": "python",
   "name": "python3"
  },
  "language_info": {
   "codemirror_mode": {
    "name": "ipython",
    "version": 3
   },
   "file_extension": ".py",
   "mimetype": "text/x-python",
   "name": "python",
   "nbconvert_exporter": "python",
   "pygments_lexer": "ipython3",
   "version": "3.11.0"
  }
 },
 "nbformat": 4,
 "nbformat_minor": 2
}
