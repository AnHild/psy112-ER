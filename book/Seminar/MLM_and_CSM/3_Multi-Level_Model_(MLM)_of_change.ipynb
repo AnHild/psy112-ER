{
 "cells": [
  {
   "cell_type": "markdown",
   "metadata": {},
   "source": [
    "## Multi-Level Model (MLM)\n",
    "\n",
    "### 1. Introduction\n",
    "So far we have counted on having the ideal conditions for performing ANOVA: our groups were equal in number and, more importantly, our dataset was complete. We didn't have any missing values. As you may imagine, such perfect conditions are rather rare in evaluation research, particularly in longitudinal designs because several participants drop out. \n",
    "\n",
    "This scenario brings up challenges that ANOVA-related analysis approaches can't deal with in a straightforward way. ANOVA would solve the missing values problem by removing of cases with missing values. Remember, however, that measurements re costly and a small sample reduces statistical power. You or the company/hospital/practice spent so much time testing participants and you do not want to dispose of valuable data that has been acquired. Instead, you can use an alternative to ANOVA that is able to reliably model the information that is available. \n",
    "\n",
    "MLMs are not only great because they can deal with missing values, but also because:\n",
    "\n",
    "* MLMs can estimate individual differences in change via the variance of random slopes. Remember: Earlier, researchers calculated the difference score to investigate individual differences in change, but the approach is biased by **variance restriction of the difference score**.\n",
    "\n",
    "* MLMs also estimate individual differences in starting values (pre-intervention scores).\n",
    "\n",
    "* The fixed effects will provide an estimate of the average starting value of the outcome and its change. \n",
    "\n",
    "* Interaction effects between levels (i.e., cross-level interactions) will inform us whether the change and individual differences in change depend on the group (treatment or control) and on further person specific variables like emotional intelligence in our example (variable \"EM\" in data frame). \n",
    "\n",
    "In the following exercise, we apply the `lmer()` function in R. We fit a model by regressing depression scores onto *time*. As the *random* part of the function, we include \"id\" to denote the observational units within which the measurements are clustered (contextual variable). "
   ]
  },
  {
   "cell_type": "code",
   "execution_count": 2,
   "metadata": {},
   "outputs": [],
   "source": [
    "#######################################################\n",
    "## Specify R environment for rpy2\n",
    "#import os\n",
    "#os.environ['R_HOME'] = r'C:/Program Files/R/R-4.4.3'  # Replace with your R path\n",
    "import rpy2.robjects as ro\n",
    "from rpy2.robjects import pandas2ri\n",
    "from rpy2.robjects.packages import importr\n",
    "from rpy2.robjects import Formula\n",
    "import contextlib\n",
    "# Ipython extension for plotting\n",
    "%load_ext rpy2.ipython\n",
    "########################################################\n",
    "\n",
    "import warnings\n",
    "warnings.filterwarnings('ignore')\n",
    "\n",
    "import pandas as pd\n",
    "import seaborn as sns\n",
    "import matplotlib.pyplot as plt\n",
    "from IPython.display import Image, display"
   ]
  },
  {
   "cell_type": "markdown",
   "metadata": {},
   "source": [
    "### 2. Computation\n",
    "**Summary:**\n",
    "`library(lme4)`\n",
    "`lmer(Dependent variable ~ fixed-effects terms + random-effects terms, data = data.frame)`\n",
    "\n",
    "A) **Fixed-Effects Terms**: all overall effects and interactions, i.e. \n",
    "\n",
    "     `predictor 1 + predictor 2 + predictor 1 * predictor 2…`\n",
    "\n",
    "    Note that these predictors can be **Level-1** or **Level-2** variables.\n",
    "\n",
    "B) **Random-Effects Terms**: \n",
    "\n",
    "    i. Only intercepts but not the slopes are random: \n",
    "    \n",
    "        `(1 | Level-2 indicator variable)`\n",
    "    \n",
    "    ii. Only slopes but not intercepts are random: \n",
    "    \n",
    "        `(0 + Level-1 variable | Level-2 indicator variable)`\n",
    "    \n",
    "    iii. Both slopes and intercepts, are random: \n",
    "    \n",
    "          `(1 + Level-1 variable | Level-2 indicator variable)`"
   ]
  },
  {
   "cell_type": "code",
   "execution_count": 11,
   "metadata": {},
   "outputs": [
    {
     "name": "stdout",
     "output_type": "stream",
     "text": [
      "  id group  EM  change  time  score\n",
      "0  1     0  25      42   pre     34\n",
      "1  1     0  25      42  post     76\n",
      "2  2     0  34     -36   pre     87\n",
      "3  2     0  34     -36  post     51\n",
      "4  3     0  15       3   pre     68\n"
     ]
    }
   ],
   "source": [
    "# Read the CSV file using a relative path\n",
    "dep_long = pd.read_csv(\"../MLM_and_CSM/Datasets/dep_long.csv\")\n",
    "\n",
    "# Convert specific columns to categorical data types\n",
    "dep_long['id'] = dep_long['id'].astype('category')\n",
    "\n",
    "\n",
    "# Reorder the levels of the 'time' and 'group' factor\n",
    "dep_long['time'] = pd.Categorical(dep_long['time'], categories=['pre', 'post'], ordered=True)\n",
    "dep_long['group'] = pd.Categorical(dep_long['group'], categories=[0, 1], ordered=True)\n",
    "\n",
    "print(dep_long.head())\n",
    "\n"
   ]
  },
  {
   "cell_type": "code",
   "execution_count": 4,
   "metadata": {},
   "outputs": [
    {
     "name": "stderr",
     "output_type": "stream",
     "text": [
      "R[write to console]: Loading required package: Matrix\n",
      "\n"
     ]
    },
    {
     "name": "stdout",
     "output_type": "stream",
     "text": [
      "Linear mixed model fit by REML ['lmerMod']\n",
      "Formula: score ~ time + (1 | id)\n",
      "   Data: dep_long\n",
      "\n",
      "REML criterion at convergence: 1723.2\n",
      "\n",
      "Scaled residuals: \n",
      "     Min       1Q   Median       3Q      Max \n",
      "-1.74851 -0.72422 -0.03171  0.71407  2.10716 \n",
      "\n",
      "Random effects:\n",
      " Groups   Name        Variance Std.Dev.\n",
      " id       (Intercept)  14.53    3.812  \n",
      " Residual             321.14   17.920  \n",
      "Number of obs: 200, groups:  id, 100\n",
      "\n",
      "Fixed effects:\n",
      "            Estimate Std. Error t value\n",
      "(Intercept)   53.735      1.323  40.608\n",
      "time.L       -10.034      1.792  -5.599\n",
      "\n",
      "Correlation of Fixed Effects:\n",
      "       (Intr)\n",
      "time.L 0.000 \n",
      "\n"
     ]
    }
   ],
   "source": [
    "# Activate pandas2ri for automatic conversion\n",
    "pandas2ri.activate()\n",
    "\n",
    "# Check if the lavaan package is installed, and install it if not\n",
    "ro.r('''\n",
    "if (!requireNamespace(\"lme4\", quietly = TRUE)) {\n",
    "    install.packages(\"lme4\", repos = \"http://cran.us.r-project.org\")\n",
    "}\n",
    "''')\n",
    "\n",
    "# Import the lavaan package in R\n",
    "ro.r('library(lme4)')\n",
    "\n",
    "# Load the dataset into R\n",
    "ro.globalenv['dep_long'] = pandas2ri.py2rpy(dep_long)\n",
    "\n",
    "# Fit the model\n",
    "ro.r('mu <- lmer(score ~ time + (1|id), data = dep_long)')\n",
    "\n",
    "# Display the summary of the SEM model\n",
    "summary = ro.r('summary(mu)')\n",
    "print(summary)"
   ]
  },
  {
   "cell_type": "markdown",
   "metadata": {},
   "source": [
    "This initial multilevel model focuses on **Level 1 (within-person) changes** in depression scores over time. Key findings from this model (`score ~ time.L + (1 | id)`) are:\n",
    "*(Assuming `time.L` is the variable name from your output for the time predictor)*\n",
    "\n",
    "* **Fixed Intercept (Average Baseline):** The estimated average depression score at the initial time point (when `time.L` is at its reference) is 53.735.\n",
    "* **Fixed Slope for `time.L` (Average Within-Person Change):** On average, depression scores *within individuals* decrease by 10.034 units for each unit increase in `time.L` (from pre- to post-intervention). This effect of `time.L` is statistically significant ($t = -5.599$).\n",
    "\n",
    "Collectively, these fixed effects describe the average Level 1 (within-person) trend. This can be represented by the equation:\n",
    "**`Predicted Score ≈ 53.735 - 10.034 * time.L`**\n",
    "This equation shows the average predicted score based on time, before considering individual-specific deviations.\n",
    "\n",
    "This model incorporates a **random intercept**, which means it accounts for the fact that individuals start with different baseline levels of depression. However, at this stage, the rate of change over time (the slope) is assumed to be the same for everyone.\n",
    "\n",
    "To explore if these depression scores and their change over time differ based on group membership, we will now extend the model. We'll add a **Level 2 (between-person) predictor**, `group`, to examine its main effect. This new model will be named `mu2`."
   ]
  },
  {
   "cell_type": "code",
   "execution_count": null,
   "metadata": {},
   "outputs": [
    {
     "name": "stderr",
     "output_type": "stream",
     "text": [
      "R[write to console]: boundary (singular) fit: see help('isSingular')\n",
      "\n"
     ]
    },
    {
     "name": "stdout",
     "output_type": "stream",
     "text": [
      "Linear mixed model fit by REML ['lmerMod']\n",
      "Formula: score ~ time + group + (1 | id)\n",
      "   Data: dep_long\n",
      "\n",
      "REML criterion at convergence: 1689.7\n",
      "\n",
      "Scaled residuals: \n",
      "     Min       1Q   Median       3Q      Max \n",
      "-2.15434 -0.82150  0.07783  0.80402  1.99809 \n",
      "\n",
      "Random effects:\n",
      " Groups   Name        Variance Std.Dev.\n",
      " id       (Intercept)   0.0     0.00   \n",
      " Residual             289.8    17.02   \n",
      "Number of obs: 200, groups:  id, 100\n",
      "\n",
      "Fixed effects:\n",
      "            Estimate Std. Error t value\n",
      "(Intercept)   60.580      1.702  35.586\n",
      "time.L       -10.034      1.702  -5.894\n",
      "group1       -13.690      2.408  -5.686\n",
      "\n",
      "Correlation of Fixed Effects:\n",
      "       (Intr) time.L\n",
      "time.L  0.000       \n",
      "group1 -0.707  0.000\n",
      "optimizer (nloptwrap) convergence code: 0 (OK)\n",
      "boundary (singular) fit: see help('isSingular')\n",
      "\n"
     ]
    }
   ],
   "source": [
    "# Fit the model\n",
    "ro.r('mu2 = lmer(score ~ time + group + (1 | id), data = dep_long)')\n",
    "\n",
    "# Display the summary of the SEM model\n",
    "summary = ro.r('summary(mu2)')\n",
    "print(summary)"
   ]
  },
  {
   "cell_type": "markdown",
   "metadata": {},
   "source": [
    "This multilevel model (`mu2`) now incorporates a **Level 2 (between-person) predictor**, `group1`, to help explain differences in depression scores, while still modeling **Level 1 (within-person) changes** over `time`. The model formula is `score ~ time + group + (1 | id)`.\n",
    "\n",
    "**Key Observations and Findings:**\n",
    "\n",
    "* **Fixed Effects:**\n",
    "    * **`(Intercept)`: 60.580**\n",
    "        * This is the estimated average depression score at the initial time point (`time` = 0) for the **reference group** (when `group` = 0).\n",
    "    * **`time.L`: -10.034**\n",
    "        * This is the estimated average **within-person change** (decrease) in depression score for each one-unit increase in `time.L` (from pre- to post-intervention), holding `group1` constant. This effect remains statistically significant ($t = -5.894$).\n",
    "    * **`group1`: -13.690**\n",
    "        * This is the estimated average difference in depression scores between the group represented by `group` (when `group` = 1) and the reference group (when `group` = 0), holding `time.L` constant.\n",
    "        * Where `group1 = 1` is the intervention group and `group1 = 0` is the control group, this significant negative coefficient ($t = -5.686$) suggests that the intervention group has, on average, depression scores that are 13.690 points lower than the control group, across all time points (as there's no interaction with time in this model yet).\n",
    "\n",
    "The average predicted score, now accounting for `group`, can be described by the equation:\n",
    "**`Predicted Score ≈ 60.580 - 10.034 * time - 13.690 * group`**\n",
    "\n",
    "\n",
    "This model adds the effect of the variable `group` as a fixed effect (-13.690). It can be interpreted as the estimated group difference on the **overall** depression. This is the difference in depression between groups, as demonstrated here:"
   ]
  },
  {
   "cell_type": "code",
   "execution_count": 8,
   "metadata": {},
   "outputs": [
    {
     "name": "stdout",
     "output_type": "stream",
     "text": [
      "  group  mean_group\n",
      "0     0       60.58\n",
      "1     1       46.89\n",
      "-13.689999999999998\n"
     ]
    }
   ],
   "source": [
    "# Group by 'group' and calculate the mean of 'score' for each group\n",
    "means_gr = dep_long.groupby('group')['score'].mean().reset_index()\n",
    "means_gr.columns = ['group', 'mean_group']\n",
    "\n",
    "# Print the means for each group\n",
    "print(means_gr)\n",
    "\n",
    "# Calculate the difference between the means of the groups\n",
    "group_diff = means_gr['mean_group'].iloc[1] - means_gr['mean_group'].iloc[0]\n",
    "\n",
    "# Print the difference\n",
    "print(group_diff)"
   ]
  },
  {
   "cell_type": "markdown",
   "metadata": {},
   "source": [
    "Thus far, we  modeled the main effects (i.e., the effect of time and group). However, because we are interested in knowing how the change in depression from pre- to post-therapy differs between the groups (interaction effect), the next step is to include the **cross-level interaction** term between these two variables (time and group). Remember, the cross-level interaction means that a between-person variable (group) is interacting with a within-person variable (time). More generally, the cross-level interaction refers to any scenario where variables of different levels interact. "
   ]
  },
  {
   "cell_type": "code",
   "execution_count": 9,
   "metadata": {},
   "outputs": [
    {
     "name": "stdout",
     "output_type": "stream",
     "text": [
      "Linear mixed model fit by REML ['lmerMod']\n",
      "Formula: score ~ group + time + group * time + (1 | id)\n",
      "   Data: dep_long\n",
      "\n",
      "REML criterion at convergence: 1657.1\n",
      "\n",
      "Scaled residuals: \n",
      "     Min       1Q   Median       3Q      Max \n",
      "-1.85334 -0.78091 -0.03413  0.79503  1.74924 \n",
      "\n",
      "Random effects:\n",
      " Groups   Name        Variance Std.Dev.\n",
      " id       (Intercept)   6.033   2.456  \n",
      " Residual             246.093  15.687  \n",
      "Number of obs: 200, groups:  id, 100\n",
      "\n",
      "Fixed effects:\n",
      "              Estimate Std. Error t value\n",
      "(Intercept)     60.580      1.607  37.704\n",
      "group1         -13.690      2.272  -6.025\n",
      "time.L          -1.273      2.219  -0.574\n",
      "group1:time.L  -17.522      3.137  -5.585\n",
      "\n",
      "Correlation of Fixed Effects:\n",
      "            (Intr) group1 time.L\n",
      "group1      -0.707              \n",
      "time.L       0.000  0.000       \n",
      "group1:tm.L  0.000  0.000 -0.707\n",
      "\n"
     ]
    }
   ],
   "source": [
    "# Fit the model\n",
    "ro.r('mu3 <- lmer(score ~ group + time + group * time + (1 |id), data = dep_long)')\n",
    "\n",
    "# Display the summary of the SEM model\n",
    "summary = ro.r('summary(mu3)')\n",
    "print(summary)"
   ]
  },
  {
   "cell_type": "markdown",
   "metadata": {},
   "source": [
    "This multilevel model includes the **interaction effect** between `group` and `time` (`group * time`) to determine if the change in depression scores over time differs based on group membership. It still includes a random intercept for `id` to account for individual baseline differences. The model formula is `score ~ group * time + (1 | id)`.\n",
    "\n",
    "**Key Observations and Findings:**\n",
    "\n",
    "* **Fixed Effects (Average Effects):**\n",
    "    * **`(Intercept)`: 60.580** ($t = 37.704$, $p < .001$)\n",
    "        * This is the estimated average depression score at the initial time point (`time` = 0, or pre-) for the **reference group** (when `group` = 0, the Control group).\n",
    "    * **`group1`: -13.690** ($t = -6.025$, $p < .001$)\n",
    "        * This is the estimated difference in scores at the initial time point (`time.L` = 0) between the group `group`=1 (Intervention) and the reference group (`group`=0). The intervention group's score is significantly lower by about 13.69 points *at baseline*.\n",
    "    * **`time.L`: -1.273** ($t = -0.574$, $p \\approx 0.57$)\n",
    "        * This is the estimated average change in score over time (from pre to post) **specifically for the reference group** (`group` = 0, Control group). This small decrease is **not statistically significant**, suggesting no significant change over time for the control group on average.\n",
    "    * **`group1:time.L` (Interaction): -17.522** ($t = -5.585$, $p < .001$)\n",
    "        * **This is the key finding for your research question.** This significant negative interaction indicates that the change in scores over time is significantly *different* for the `group`=1 group compared to the reference group.\n",
    "        * Specifically, the slope (change over time) for the `group`=1 group (Intervention) is estimated to be 17.522 points *more negative* (a steeper decrease) than the slope for the reference group (Control).\n",
    "\n",
    "The average predicted value for `Score` based on this model is given by the equation:\n",
    "**`Predicted Score ≈ 60.580 - 13.690 * group - 1.273 * time - 17.522 * group * time`**\n",
    "*(Where `group` is 0 or 1, and `time.L` represents the time variable coding, 0=pre, 1=post).*\n",
    "\n",
    "We can even proceed to add EM as predictor:"
   ]
  },
  {
   "cell_type": "code",
   "execution_count": 12,
   "metadata": {},
   "outputs": [
    {
     "name": "stdout",
     "output_type": "stream",
     "text": [
      "Linear mixed model fit by REML ['lmerMod']\n",
      "Formula: score ~ group + time + group * time + EM + (1 | id)\n",
      "   Data: dep_long\n",
      "\n",
      "REML criterion at convergence: 1657.5\n",
      "\n",
      "Scaled residuals: \n",
      "     Min       1Q   Median       3Q      Max \n",
      "-1.93154 -0.79642 -0.08054  0.81016  1.66850 \n",
      "\n",
      "Random effects:\n",
      " Groups   Name        Variance Std.Dev.\n",
      " id       (Intercept)   4.736   2.176  \n",
      " Residual             246.093  15.687  \n",
      "Number of obs: 200, groups:  id, 100\n",
      "\n",
      "Fixed effects:\n",
      "              Estimate Std. Error t value\n",
      "(Intercept)    56.2903     3.4320  16.402\n",
      "group1        -13.6173     2.2614  -6.022\n",
      "time.L         -1.2728     2.2185  -0.574\n",
      "EM              0.1651     0.1169   1.412\n",
      "group1:time.L -17.5221     3.1375  -5.585\n",
      "\n",
      "Correlation of Fixed Effects:\n",
      "            (Intr) group1 time.L EM    \n",
      "group1      -0.349                     \n",
      "time.L       0.000  0.000              \n",
      "EM          -0.885  0.023  0.000       \n",
      "group1:tm.L  0.000  0.000 -0.707  0.000\n",
      "\n"
     ]
    }
   ],
   "source": [
    "# Fit the model\n",
    "ro.r('mu4 <- lmer(score ~ group + time + group * time + EM + (1 |id), data = dep_long)')\n",
    "\n",
    "# Display the summary of the SEM model\n",
    "summary = ro.r('summary(mu4)')\n",
    "print(summary)"
   ]
  },
  {
   "cell_type": "markdown",
   "metadata": {},
   "source": [
    "As in model \"mu2\", the **fixed** estimate for EM indicates its effect on the **overall** depression score. Because \"EM\" is a continuous variable, its estimate (0.16) is interpreted as a regression weight - the expected change in depression given a one-unit increase in EM.\n",
    "\n",
    "Note: If you wanted to test whether the change in depression differs depending on EM, a further **cross-level interaction** between time and EM needs to be added to the model. We don't go over such a model, but the syntax to run it would be: "
   ]
  },
  {
   "cell_type": "code",
   "execution_count": 15,
   "metadata": {},
   "outputs": [
    {
     "name": "stdout",
     "output_type": "stream",
     "text": [
      "Linear mixed model fit by REML ['lmerMod']\n",
      "Formula: score ~ group + time + group * time + EM + EM * time + (1 | id)\n",
      "   Data: dep_long\n",
      "\n",
      "REML criterion at convergence: 1658.8\n",
      "\n",
      "Scaled residuals: \n",
      "     Min       1Q   Median       3Q      Max \n",
      "-1.84769 -0.76834 -0.09611  0.83698  1.70945 \n",
      "\n",
      "Random effects:\n",
      " Groups   Name        Variance Std.Dev.\n",
      " id       (Intercept)   4.088   2.022  \n",
      " Residual             247.388  15.729  \n",
      "Number of obs: 200, groups:  id, 100\n",
      "\n",
      "Fixed effects:\n",
      "              Estimate Std. Error t value\n",
      "(Intercept)    56.2903     3.4320  16.402\n",
      "group1        -13.6173     2.2614  -6.022\n",
      "time.L         -4.2212     4.7753  -0.884\n",
      "EM              0.1651     0.1169   1.412\n",
      "group1:time.L -17.4722     3.1465  -5.553\n",
      "time.L:EM       0.1135     0.1626   0.698\n",
      "\n",
      "Correlation of Fixed Effects:\n",
      "            (Intr) group1 time.L EM     gr1:.L\n",
      "group1      -0.349                            \n",
      "time.L       0.000  0.000                     \n",
      "EM          -0.885  0.023  0.000              \n",
      "group1:tm.L  0.000  0.000 -0.349  0.000       \n",
      "time.L:EM    0.000  0.000 -0.885  0.000  0.023\n",
      "\n"
     ]
    }
   ],
   "source": [
    "# Fit the model\n",
    "ro.r('mu5 <- lmer(score ~ group + time + group * time + EM + EM * time + (1 |id), data = dep_long)')\n",
    "\n",
    "# Display the summary of the SEM model\n",
    "summary = ro.r('summary(mu5)')\n",
    "print(summary)"
   ]
  },
  {
   "cell_type": "markdown",
   "metadata": {},
   "source": [
    "We hope that by now you are aware of the several advantages of MLM compared to more traditional approaches. Keep in mind that this is only a brief introduction to MLM in the context of longitudinal data analysis."
   ]
  }
 ],
 "metadata": {
  "kernelspec": {
   "display_name": "Python 3",
   "language": "python",
   "name": "python3"
  },
  "language_info": {
   "codemirror_mode": {
    "name": "ipython",
    "version": 3
   },
   "file_extension": ".py",
   "mimetype": "text/x-python",
   "name": "python",
   "nbconvert_exporter": "python",
   "pygments_lexer": "ipython3",
   "version": "3.11.0"
  }
 },
 "nbformat": 4,
 "nbformat_minor": 2
}
