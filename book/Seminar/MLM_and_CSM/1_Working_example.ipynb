{
 "cells": [
  {
   "cell_type": "markdown",
   "metadata": {},
   "source": [
    "## A working example\n",
    "\n",
    "### 1. Importing the libraries\n",
    "First, let us set the environment by importing the libraries"
   ]
  },
  {
   "cell_type": "code",
   "execution_count": 1,
   "metadata": {},
   "outputs": [],
   "source": [
    "import warnings\n",
    "warnings.filterwarnings('ignore')\n",
    "\n",
    "import pandas as pd"
   ]
  },
  {
   "cell_type": "markdown",
   "metadata": {},
   "source": [
    "### 2. Exploring the data\n",
    "For this session we will work with one dataset only: `deep_long` contains information from 100 patients who agreed to participate in a study evaluating the effects of a new intensive depression therapy. The data frame includes variables specifying the group to which each participant belongs (0 = control, 1 = treatment), their pre- and post-therapy depression scores and a score reflecting emotional intelligence (this variable might influence the treatment outcome). Our task is to investigate whether the intensive therapy is effective at reducing self-reported depression. Feel free to use the code chunks to explore the data frame. "
   ]
  },
  {
   "cell_type": "code",
   "execution_count": 2,
   "metadata": {},
   "outputs": [
    {
     "name": "stdout",
     "output_type": "stream",
     "text": [
      "   id  group  EM  change  time  score\n",
      "0   1      0  25      42   pre     34\n",
      "1   1      0  25      42  post     76\n",
      "2   2      0  34     -36   pre     87\n",
      "3   2      0  34     -36  post     51\n",
      "4   3      0  15       3   pre     68\n"
     ]
    }
   ],
   "source": [
    "# Read the CSV file using a relative path\n",
    "dep_long = pd.read_csv(\"../MLM_and_CSM/Datasets/dep_long.csv\")\n",
    "\n",
    "# Display the first few rows of the dataframe\n",
    "print(dep_long.head())"
   ]
  }
 ],
 "metadata": {
  "kernelspec": {
   "display_name": "Python 3",
   "language": "python",
   "name": "python3"
  },
  "language_info": {
   "codemirror_mode": {
    "name": "ipython",
    "version": 3
   },
   "file_extension": ".py",
   "mimetype": "text/x-python",
   "name": "python",
   "nbconvert_exporter": "python",
   "pygments_lexer": "ipython3",
   "version": "3.11.0"
  }
 },
 "nbformat": 4,
 "nbformat_minor": 2
}
