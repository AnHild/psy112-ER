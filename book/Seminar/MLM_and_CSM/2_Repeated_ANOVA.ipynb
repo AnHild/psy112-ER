{
 "cells": [
  {
   "cell_type": "markdown",
   "metadata": {},
   "source": [
    "## Repeated measures ANOVA with control group\n",
    "\n",
    "### 1. Introduction\n",
    "Last week we covered various types of ANOVA along with the study designs and data to which they apply. Given that our data frame contains information from individuals who participated in both measurement time points (pre and post) but in separate groups, a repeated measures ANOVA with a control group can be used. Note that this is a mixed ANOVA because there are within- and between-person variables. Can you tell which is which?"
   ]
  },
  {
   "cell_type": "code",
   "execution_count": 1,
   "metadata": {},
   "outputs": [],
   "source": [
    "import warnings\n",
    "warnings.filterwarnings('ignore')\n",
    "\n",
    "import pandas as pd\n",
    "import seaborn as sns\n",
    "import matplotlib.pyplot as plt\n",
    "import statsmodels.api as sm\n",
    "import pingouin as pg"
   ]
  },
  {
   "cell_type": "markdown",
   "metadata": {},
   "source": [
    "### 2. Visualizing the data\n",
    "Use the `seaborn` function or any other package to create boxplots of the depression scores in the control and experimental groups at pre- and post-intervention. Your plot should convey the same information as the one shown below: "
   ]
  },
  {
   "cell_type": "code",
   "execution_count": 9,
   "metadata": {},
   "outputs": [
    {
     "data": {
      "image/png": "[encoded data removed]",
      "text/plain": [
       "<Figure size 1000x600 with 1 Axes>"
      ]
     },
     "metadata": {},
     "output_type": "display_data"
    }
   ],
   "source": [
    "# Read the CSV file using a relative path\n",
    "dep_long = pd.read_csv(\"../MLM_and_CSM/Datasets/dep_long.csv\")\n",
    "\n",
    "# Convert specific columns to categorical data types\n",
    "dep_long['id'] = dep_long['id'].astype('category')\n",
    "dep_long['group'] = dep_long['group'].astype('category')\n",
    "dep_long['time'] = dep_long['time'].astype('category')\n",
    "\n",
    "# Reorder the levels of the 'time' factor\n",
    "dep_long['time'] = dep_long['time'].cat.reorder_categories(['pre', 'post'])\n",
    "\n",
    "# Create the boxplot\n",
    "plt.figure(figsize=(10, 6))\n",
    "sns.boxplot(x='group', y='score', hue='time', data=dep_long, gap = 0.1)\n",
    "plt.xlabel(\"Group\")\n",
    "plt.ylabel(\"Depression score\")\n",
    "plt.title(\"Boxplots: Depression scores\")\n",
    "plt.legend(title='Time')\n",
    "plt.show()"
   ]
  },
  {
   "cell_type": "markdown",
   "metadata": {},
   "source": [
    "### 2. Computation\n",
    "In this session, we will utilize the `mixed_anova()` function from the `pingouin` library to perform a mixed-design ANOVA. This function provides a streamlined way to analyze data with both between-subject and within-subject factors.\n",
    "\n",
    "The `mixed_anova()` function takes several key arguments:\n",
    "\n",
    "* `data`: The pandas DataFrame containing your data in long format.\n",
    "* `dv`: The name of the dependent variable column.\n",
    "* `within`: The name of the within-subject factor column.\n",
    "* `between`: The name of the between-subject factor column.\n",
    "* `subject`: The name of the subject ID column.\n",
    "\n",
    "This function efficiently handles the analysis of repeated measures data, including sphericity corrections, making it a robust alternative to other ANOVA implementations in Python.\n",
    "\n",
    "Run the provided Python code using `pingouin.mixed_anova()` and interpret the resulting ANOVA table in relation to the previously visualized boxplots. The table will provide F-statistics, p-values, and effect sizes, allowing you to assess the significance of the main effects and interactions of your within- and between-subject factors."
   ]
  },
  {
   "cell_type": "code",
   "execution_count": 5,
   "metadata": {},
   "outputs": [
    {
     "name": "stdout",
     "output_type": "stream",
     "text": [
      "        Source         SS  DF1  DF2         MS          F         p-unc  \\\n",
      "0        group   9370.805    1   98   9370.805  36.298482  2.970761e-08   \n",
      "1         time  10067.805    1   98  10067.805  40.910611  5.455773e-09   \n",
      "2  Interaction   7675.605    1   98   7675.605  31.189886  2.094010e-07   \n",
      "\n",
      "        np2  eps  \n",
      "0  0.270282  NaN  \n",
      "1  0.294510  1.0  \n",
      "2  0.241427  NaN  \n"
     ]
    }
   ],
   "source": [
    "# Create new columns for contrasts\n",
    "dep_long['group_contrast'] = dep_long['group'].cat.codes.replace({0: -1, 1: 1})\n",
    "dep_long['time_contrast'] = dep_long['time'].cat.codes.replace({0: -1, 1: 1})\n",
    "\n",
    "# Perform ANOVA\n",
    "aov = pg.mixed_anova(data=dep_long, dv='score', within='time', between='group', subject='id')\n",
    "\n",
    "# Print the ANOVA table\n",
    "print(aov)"
   ]
  }
 ],
 "metadata": {
  "kernelspec": {
   "display_name": "psy112",
   "language": "python",
   "name": "python3"
  },
  "language_info": {
   "codemirror_mode": {
    "name": "ipython",
    "version": 3
   },
   "file_extension": ".py",
   "mimetype": "text/x-python",
   "name": "python",
   "nbconvert_exporter": "python",
   "pygments_lexer": "ipython3",
   "version": "3.9.7"
  }
 },
 "nbformat": 4,
 "nbformat_minor": 2
}
