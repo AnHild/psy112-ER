{
 "cells": [
  {
   "cell_type": "markdown",
   "metadata": {},
   "source": [
    "## Two-way ANOVA between persons\n",
    "\n",
    "### 1. Importing the libraries\n",
    "First, let us set the environment by importing the libraries"
   ]
  },
  {
   "cell_type": "code",
   "execution_count": 1,
   "metadata": {},
   "outputs": [],
   "source": [
    "import warnings\n",
    "warnings.filterwarnings('ignore')\n",
    "\n",
    "import pandas as pd\n",
    "import numpy as np\n",
    "import seaborn as sns\n",
    "import matplotlib.pyplot as plt\n",
    "import pingouin as pg\n",
    "import statsmodels.api as sm\n",
    "from patsy.contrasts import ContrastMatrix\n",
    "from statsmodels.formula.api import ols\n",
    "from statsmodels.stats.multicomp import pairwise_tukeyhsd\n",
    "from statsmodels.stats.anova import anova_lm"
   ]
  },
  {
   "cell_type": "markdown",
   "metadata": {},
   "source": [
    "### 2. Data visualization and descriptive statistics\n",
    "We now return to our data example on life satisfaction depending on lockdown type (\"lock_data\" data frame). As a third step in our investigation, we want to study whether biological sex is related to life satisfaction. In addition to the main effects of lockdown type and sex, we also want to determine whether an interaction effect occured. Let's consider the variable sex, which is also available in our data frame. By doing so, we have a 3 x 2 **factorial design** with 2 independent variables. The first one has 3 levels and the second one has 2 levels.\n",
    "\n",
    "Note: It is very common to use the term **\"factor\"** in the ANOVA literature. Please do not confound it with factors meant by factor analysis and SEM. What we mean here by factor is a categorical (sometimes qualitative, sometimes ordinal) independent variable. As you know, in factor analysis, the factor is a quantitative inferred (latent) variable.\n",
    "\n",
    "In order to plot more than one factor, use `FacetGrid()` function from seaborn."
   ]
  },
  {
   "cell_type": "code",
   "execution_count": 2,
   "metadata": {},
   "outputs": [
    {
     "name": "stdout",
     "output_type": "stream",
     "text": [
      "   id lockdown_type sex  life_satisfaction\n",
      "0   1          mild   m          44.113647\n",
      "1   2          mild   f          12.819376\n",
      "2   3          mild   f          54.679811\n",
      "3   4          mild   m          23.397983\n",
      "4   5          mild   m          71.267360\n"
     ]
    }
   ],
   "source": [
    "# Read the CSV file using a relative path\n",
    "lock_data = pd.read_csv(\"../ANOVA_and_ANCOVA/Datasets/lock_data.csv\")\n",
    "\n",
    "# Display the first few rows of the dataframe\n",
    "print(lock_data.head())"
   ]
  },
  {
   "cell_type": "code",
   "execution_count": 3,
   "metadata": {},
   "outputs": [
    {
     "data": {
      "image/png": "[encoded data removed]",
      "text/plain": [
       "<Figure size 1211.11x500 with 2 Axes>"
      ]
     },
     "metadata": {},
     "output_type": "display_data"
    }
   ],
   "source": [
    "# Create the FacetGrid\n",
    "g = sns.FacetGrid(lock_data, col=\"sex\", height=5, aspect=1.2)\n",
    "\n",
    "# Map the boxplot to the grid\n",
    "g.map(sns.boxplot, \"lockdown_type\", \"life_satisfaction\", palette=\"Set2\")\n",
    "\n",
    "# Add axis labels and titles\n",
    "g.set_axis_labels(\"Lockdown\", \"Life satisfaction\")\n",
    "g.set_titles(col_template=\"{col_name}\")\n",
    "\n",
    "# Adjust the layout\n",
    "g.add_legend()\n",
    "plt.subplots_adjust(top=0.9)\n",
    "g.fig.suptitle(\"Life Satisfaction by Lockdown Type and Sex\")\n",
    "\n",
    "# Show the plot\n",
    "plt.show()"
   ]
  },
  {
   "cell_type": "markdown",
   "metadata": {},
   "source": [
    "### 3. ANOVA\n",
    "\n",
    "Let us compute a two-way ANOVA. The function must include the second factor (sex) as well."
   ]
  },
  {
   "cell_type": "code",
   "execution_count": 4,
   "metadata": {},
   "outputs": [
    {
     "name": "stdout",
     "output_type": "stream",
     "text": [
      "                Source            SS    DF           MS         F     p-unc  \\\n",
      "0        lockdown_type   4670.013748   2.0  2335.006874  4.698036  0.011639   \n",
      "1                  sex     18.065485   1.0    18.065485  0.036348  0.849259   \n",
      "2  lockdown_type * sex   1932.948765   2.0   966.474382  1.944547  0.149438   \n",
      "3             Residual  41749.487256  84.0   497.017705       NaN       NaN   \n",
      "\n",
      "        np2  \n",
      "0  0.100605  \n",
      "1  0.000433  \n",
      "2  0.044250  \n",
      "3       NaN  \n"
     ]
    }
   ],
   "source": [
    "# Perform two-way ANOVA with interaction\n",
    "anova_results = pg.anova(dv='life_satisfaction', between=['lockdown_type', 'sex'], data=lock_data, detailed=True, ss_type=1)\n",
    "\n",
    "# Display the ANOVA results\n",
    "print(anova_results)"
   ]
  },
  {
   "cell_type": "markdown",
   "metadata": {},
   "source": [
    "With specification of `ss_type = 1`, `anova()` will compute the type I sum of squares. We will not recap how this works, but keep in mind that when sum of squares is set to type I, the independent variables in the model will be treated sequentially. This means that the amount of variance that the second independent variable explains will be estimated after the total variance explained by the first independent variable has been computed. As such, the entire shared variance between the two predictors will be assigned to the first one, yielding biased results. Ultimately, this means that the order in which independent variables are included in the model will matter!\n",
    "\n",
    "For example:\n",
    "\n",
    "Run the code below. It will create the same ANOVA model as above but with inverted order of independent variables. Note that the Mean sq, F-value and its probability is different for the variable \"sex\" across the models."
   ]
  },
  {
   "cell_type": "code",
   "execution_count": 5,
   "metadata": {},
   "outputs": [
    {
     "name": "stdout",
     "output_type": "stream",
     "text": [
      "                Source            SS    DF           MS         F     p-unc  \\\n",
      "0                  sex     18.424526   1.0    18.424526  0.037070  0.847787   \n",
      "1        lockdown_type   4669.654707   2.0  2334.827353  4.697674  0.011643   \n",
      "2  sex * lockdown_type   1932.948765   2.0   966.474382  1.944547  0.149438   \n",
      "3             Residual  41749.487256  84.0   497.017705       NaN       NaN   \n",
      "\n",
      "        np2  \n",
      "0  0.000441  \n",
      "1  0.100598  \n",
      "2  0.044250  \n",
      "3       NaN  \n"
     ]
    }
   ],
   "source": [
    "# Perform two-way ANOVA with interaction\n",
    "anova_results = pg.anova(dv='life_satisfaction', between=['sex', 'lockdown_type'], data=lock_data, detailed=True, ss_type=1)\n",
    "\n",
    "# Display the ANOVA results\n",
    "print(anova_results)"
   ]
  },
  {
   "cell_type": "markdown",
   "metadata": {},
   "source": [
    "This is not an issue in a one-factor design. However, in case of a factorial design with more than one independent variable, it is important to account for this and to consider all effects simultaneously. \n",
    "\n",
    "Note that there are 3 different types for calculating sum of squares:\n",
    "Type I: Sequential, order-dependent, use with caution.\n",
    "Type II: Hierarchical, ignores interactions, better than Type I for factorial designs.\n",
    "Type III: With interactions, accounts for all effects, most robust and commonly used.\n",
    "\n",
    "In our case, we can achieve the correction by using a different type of sum of squares, for example type III:"
   ]
  },
  {
   "cell_type": "code",
   "execution_count": 6,
   "metadata": {},
   "outputs": [
    {
     "name": "stdout",
     "output_type": "stream",
     "text": [
      "                Source            SS    DF           MS         F     p-unc  \\\n",
      "0                  sex     19.900108   1.0    19.900108  0.040039  0.841888   \n",
      "1        lockdown_type   5124.304239   2.0  2562.152120  5.155052  0.007732   \n",
      "2  sex * lockdown_type   1932.948765   2.0   966.474382  1.944547  0.149438   \n",
      "3             Residual  41749.487256  84.0   497.017705       NaN       NaN   \n",
      "\n",
      "        np2  \n",
      "0  0.000476  \n",
      "1  0.109321  \n",
      "2  0.044250  \n",
      "3       NaN  \n",
      "                Source            SS    DF           MS         F     p-unc  \\\n",
      "0        lockdown_type   5124.304239   2.0  2562.152120  5.155052  0.007732   \n",
      "1                  sex     19.900108   1.0    19.900108  0.040039  0.841888   \n",
      "2  lockdown_type * sex   1932.948765   2.0   966.474382  1.944547  0.149438   \n",
      "3             Residual  41749.487256  84.0   497.017705       NaN       NaN   \n",
      "\n",
      "        np2  \n",
      "0  0.109321  \n",
      "1  0.000476  \n",
      "2  0.044250  \n",
      "3       NaN  \n"
     ]
    }
   ],
   "source": [
    "# Perform two-way ANOVA with interaction\n",
    "anova_results_1 = pg.anova(dv='life_satisfaction', between=['sex', 'lockdown_type'], data=lock_data, detailed=True, ss_type=3)\n",
    "\n",
    "# Display the ANOVA results\n",
    "print(anova_results_1)\n",
    "\n",
    "# Perform two-way ANOVA with interaction\n",
    "anova_results_2 = pg.anova(dv='life_satisfaction', between=['lockdown_type', 'sex'], data=lock_data, detailed=True, ss_type=3)\n",
    "\n",
    "# Display the ANOVA results\n",
    "print(anova_results_2)"
   ]
  },
  {
   "cell_type": "markdown",
   "metadata": {},
   "source": [
    "Note that an additional requirement must be fulfilled: In order to compute type III sum of squares, we are required to have **orthogonal contrasts** only, which is not the case for the dummy coding scheme that is the default of `anova()`. In other words, performing anova with `anova()` (which estimates type I sum of squares) is recommended when there is only one independent variable. When adding a second one, and provided that we do not want to assess the effects sequentially, the computation of sum of squares type III requires us to pre-define contrasts.\n",
    "\n",
    "Contrasts are an alternative to post hoc analysis. In fact, they are a great alternative, as we are forced to explicitly state our hypotheses á priori based on our expectations. This offers a methodological advantage because functions to perform post-hoc analysis become tedious with increasing model complexity. Additionally, pre-defining contrasts is a way to contribute to reproducible open and confirmatory science. "
   ]
  },
  {
   "cell_type": "markdown",
   "metadata": {},
   "source": [
    "*Defining orthogonal contrasts:*\n",
    "\n",
    "Please refer to the psy111 lecture, if you need to review the process of constructing orthogonal contrasts. In this example, orthogonal contrasts may be specified as follows:"
   ]
  },
  {
   "cell_type": "code",
   "execution_count": 12,
   "metadata": {},
   "outputs": [
    {
     "name": "stdout",
     "output_type": "stream",
     "text": [
      "Type III ANOVA Results:\n",
      "                                                           sum_sq    df  \\\n",
      "Intercept                                           184809.570286   1.0   \n",
      "C(sex, contrast_sex)                                    19.900108   1.0   \n",
      "C(lockdown_type, contrast_lockdown_type)              5124.304239   2.0   \n",
      "C(sex, contrast_sex):C(lockdown_type, contrast_...    1932.948765   2.0   \n",
      "Residual                                             41749.487256  84.0   \n",
      "\n",
      "                                                             F        PR(>F)  \n",
      "Intercept                                           371.836995  1.353103e-32  \n",
      "C(sex, contrast_sex)                                  0.040039  8.418879e-01  \n",
      "C(lockdown_type, contrast_lockdown_type)              5.155052  7.731871e-03  \n",
      "C(sex, contrast_sex):C(lockdown_type, contrast_...    1.944547  1.494378e-01  \n",
      "Residual                                                   NaN           NaN  \n",
      "\n",
      "Linear Model Summary:\n",
      "                            OLS Regression Results                            \n",
      "==============================================================================\n",
      "Dep. Variable:      life_satisfaction   R-squared:                       0.137\n",
      "Model:                            OLS   Adj. R-squared:                  0.086\n",
      "Method:                 Least Squares   F-statistic:                     2.664\n",
      "Date:                Thu, 17 Apr 2025   Prob (F-statistic):             0.0276\n",
      "Time:                        10:26:21   Log-Likelihood:                -403.99\n",
      "No. Observations:                  90   AIC:                             820.0\n",
      "Df Residuals:                      84   BIC:                             835.0\n",
      "Df Model:                           5                                         \n",
      "Covariance Type:            nonrobust                                         \n",
      "======================================================================================================================================================\n",
      "                                                                                         coef    std err          t      P>|t|      [0.025      0.975]\n",
      "------------------------------------------------------------------------------------------------------------------------------------------------------\n",
      "Intercept                                                                             45.6210      2.366     19.283      0.000      40.916      50.326\n",
      "C(sex, contrast_sex)contrast_sex                                                       0.4734      2.366      0.200      0.842      -4.231       5.178\n",
      "C(lockdown_type, contrast_lockdown_type)contrast1                                     -4.5975      1.675     -2.745      0.007      -7.928      -1.267\n",
      "C(lockdown_type, contrast_lockdown_type)contrast2                                     -4.8516      2.894     -1.676      0.097     -10.607       0.904\n",
      "C(sex, contrast_sex)contrast_sex:C(lockdown_type, contrast_lockdown_type)contrast1     0.6402      1.675      0.382      0.703      -2.690       3.971\n",
      "C(sex, contrast_sex)contrast_sex:C(lockdown_type, contrast_lockdown_type)contrast2     5.6038      2.894      1.936      0.056      -0.152      11.359\n",
      "==============================================================================\n",
      "Omnibus:                        6.801   Durbin-Watson:                   2.067\n",
      "Prob(Omnibus):                  0.033   Jarque-Bera (JB):                2.819\n",
      "Skew:                          -0.029   Prob(JB):                        0.244\n",
      "Kurtosis:                       2.135   Cond. No.                         1.94\n",
      "==============================================================================\n",
      "\n",
      "Notes:\n",
      "[1] Standard Errors assume that the covariance matrix of the errors is correctly specified.\n"
     ]
    }
   ],
   "source": [
    "# Define contrasts for the variables\n",
    "contrast_sex = ContrastMatrix(np.array([[-1], [1]]), [\"contrast_sex\"])  # For variable sex\n",
    "contrast_lockdown_type = ContrastMatrix(\n",
    "    np.array([[-2, 0], [1, -1], [1, 1]]), [\"contrast1\", \"contrast2\"]\n",
    ")  # For variable lockdown_type\n",
    "\n",
    "# Assign contrasts to the variables using patsy\n",
    "lock_data['sex'] = lock_data['sex'].astype('category')\n",
    "lock_data['lockdown_type'] = lock_data['lockdown_type'].astype('category')\n",
    "\n",
    "# Fit the ANOVA model\n",
    "model = ols(\"life_satisfaction ~ C(sex, contrast_sex) * C(lockdown_type, contrast_lockdown_type)\", data=lock_data).fit()\n",
    "\n",
    "# Perform Type III ANOVA\n",
    "anova_results = anova_lm(model, typ=3)\n",
    "\n",
    "# Display the ANOVA results\n",
    "print(\"Type III ANOVA Results:\")\n",
    "print(anova_results)\n",
    "\n",
    "# Display the summary of the linear model\n",
    "print(\"\\nLinear Model Summary:\")\n",
    "print(model.summary())"
   ]
  },
  {
   "cell_type": "markdown",
   "metadata": {},
   "source": [
    "Interpretation:\n",
    "\n",
    "- The first contrast for the variable sex coded as (-1,1) represents the difference between males and females. \n",
    "\n",
    "- The two contrasts for the variable \"lockdown type\" (which has three levels), are also displayed in the output. The first one represents the difference between extreme and moderate and mild together (extreme - moderate + mild). The second one represents the difference between moderate and mild.\n",
    "\n",
    "- The two interaction effects indicate whether the two contrasts described above (lockdown_typecontrast1 and lockdown_typecontrast2) are different in female as compared to males."
   ]
  },
  {
   "cell_type": "markdown",
   "metadata": {},
   "source": [
    "### 4. Additional ANOVA models:\n",
    "\n",
    "Due to time constrains, we cannot go through all possible ANOVA model types - these are covered in an entire lecture in Bachelor programmes in psycholgy and social sciences. Keep in mind that there are many other ANOVA type models, in which not only the number of factors and levels may be increased, but also combined. A common example is **mixed factorial ANOVA**, where both within- and between-person factors are included into the model (see `mixed_anova()` from pingouin). \n",
    "\n",
    "To conclude, ANOVA models offer a wide range of possibilities that can be accommodated to the research aim and the design at hand. It is crucial to keep in mind their proper usages and limitations. For instance, while highly complex models may be used (imagine a mixed 5 * 4 * 3 factorial ANOVA), interpretability will be generally compromised. And you will see in this seminar, that ANOVA is a method that will not be able to deal with all specific issues that we face in applied (field) reasearch."
   ]
  }
 ],
 "metadata": {
  "kernelspec": {
   "display_name": "Python 3",
   "language": "python",
   "name": "python3"
  },
  "language_info": {
   "codemirror_mode": {
    "name": "ipython",
    "version": 3
   },
   "file_extension": ".py",
   "mimetype": "text/x-python",
   "name": "python",
   "nbconvert_exporter": "python",
   "pygments_lexer": "ipython3",
   "version": "3.11.0"
  }
 },
 "nbformat": 4,
 "nbformat_minor": 2
}
