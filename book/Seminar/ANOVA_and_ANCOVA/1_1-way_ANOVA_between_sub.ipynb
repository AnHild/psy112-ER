{
 "cells": [
  {
   "cell_type": "markdown",
   "metadata": {},
   "source": [
    "## One-way ANOVA between subjects\n",
    "\n",
    "### 1. Importing the libraries\n",
    "First, let us set the environment by importing the libraries"
   ]
  },
  {
   "cell_type": "code",
   "execution_count": 1,
   "metadata": {},
   "outputs": [],
   "source": [
    "import warnings\n",
    "warnings.filterwarnings('ignore')\n",
    "\n",
    "import pandas as pd\n",
    "import seaborn as sns\n",
    "import matplotlib.pyplot as plt\n",
    "import pingouin as pg\n",
    "from statsmodels.formula.api import ols\n",
    "import statsmodels.api as sm\n",
    "from statsmodels.stats.multicomp import pairwise_tukeyhsd"
   ]
  },
  {
   "cell_type": "markdown",
   "metadata": {},
   "source": [
    "### 2. Data visualization and descriptive statistics: An example\n",
    "Without doubt, the COVID pandemic will have severe long-lasting effects on our societies. Although initial research focused on epidemiological aspects, current studies address the psychological effects of the pandemic. In this hypothetical example, we want to assess whether the **type of lockdown** influences the perception of **life satisfaction**. \n",
    "\n",
    "Lockdown types are defined in regard to the behavioral restrictions implemented by governments. As such, we will have **one** independent variable (lockdown type) with three levels (mild, moderate and extreme) and **one** dependent variable on an interval scale (life satisfaction) ranging from 0 to 100.\n",
    "\n",
    "\n",
    "The data frame named \"lock_data\" contains life satisfaction scores from 90 participants Please read the data using `read_csv()` and use the function `head()` to explore it."
   ]
  },
  {
   "cell_type": "code",
   "execution_count": 2,
   "metadata": {},
   "outputs": [
    {
     "name": "stdout",
     "output_type": "stream",
     "text": [
      "   id lockdown_type sex  life_satisfaction\n",
      "0   1          mild   m          44.113647\n",
      "1   2          mild   f          12.819376\n",
      "2   3          mild   f          54.679811\n",
      "3   4          mild   m          23.397983\n",
      "4   5          mild   m          71.267360\n"
     ]
    }
   ],
   "source": [
    "# Read the CSV file using a relative path\n",
    "lock_data = pd.read_csv(\"../ANOVA_and_ANCOVA/Datasets/lock_data.csv\")\n",
    "\n",
    "# Display the first few rows of the dataframe\n",
    "print(lock_data.head())"
   ]
  },
  {
   "cell_type": "markdown",
   "metadata": {},
   "source": [
    "Try to relate this example to the content you covered in the last theoretical seminar session. What kind of independent variable are we dealing with? Between-subjects or within-subjects?\n",
    "\n",
    "Now, let us explore the data using `describe()` to show the means and other descriptive statistics."
   ]
  },
  {
   "cell_type": "code",
   "execution_count": 3,
   "metadata": {},
   "outputs": [
    {
     "name": "stdout",
     "output_type": "stream",
     "text": [
      "              id  life_satisfaction\n",
      "count  90.000000          90.000000\n",
      "mean   45.500000          45.783873\n",
      "std    26.124701          23.312849\n",
      "min     1.000000           1.591166\n",
      "25%    23.250000          28.580012\n",
      "50%    45.500000          45.802662\n",
      "75%    67.750000          64.888950\n",
      "max    90.000000          92.918149\n"
     ]
    }
   ],
   "source": [
    "# Get a summary of statistics\n",
    "summary = lock_data.describe()\n",
    "\n",
    "# Display the summary\n",
    "print(summary)"
   ]
  },
  {
   "cell_type": "markdown",
   "metadata": {},
   "source": [
    "Boxplots provide an overview of the data distribution and some intuition as to the results we might expect. In addition, boxplots enable us to identify potential outliers, which should be removed as part of a preprocessing (data cleaning) step prior to data analysis. The following code chunk illustrates code for creating boxplots using `boxplot()`. Run it to see what happens."
   ]
  },
  {
   "cell_type": "code",
   "execution_count": 4,
   "metadata": {},
   "outputs": [
    {
     "data": {
      "image/png": "[encoded data removed]",
      "text/plain": [
       "<Figure size 1000x600 with 1 Axes>"
      ]
     },
     "metadata": {},
     "output_type": "display_data"
    }
   ],
   "source": [
    "# Create the boxplot\n",
    "plt.figure(figsize=(10, 6))\n",
    "sns.boxplot(data=lock_data, x='lockdown_type', y='life_satisfaction', palette='Set2')\n",
    "\n",
    "# Customize the plot\n",
    "plt.xlabel(\"Lockdown\")\n",
    "plt.ylabel(\"Life satisfaction\")\n",
    "plt.title(\"Life Satisfaction by Lockdown Type\")\n",
    "plt.grid(True)\n",
    "\n",
    "# Show the plot\n",
    "plt.show()"
   ]
  },
  {
   "cell_type": "markdown",
   "metadata": {},
   "source": [
    "### 3. Assumptions\n",
    "ANOVA is a parametric model. This means that its usage requires the data to fulfill a series of assumptions. If the data does not satisfy those assumptions, a non-parametric test is recommended. However, ANOVA can be used in case of slight violations of these assumptions. \n",
    "\n",
    "Testing whether the data meets the assumptions of parametric testing is a complex endeavor, especially considering that different ANOVA models require different assumption tests (e.g., normality, homogeneity of variance, sphericity, etc). We hope that you remember them from your Bachelor studies. Because this is not a Bachelor level course, we should not spend too much time on ANOVA methodology. Therefore, we will not cover assumption tests in this tutorial. The aim here is to briefly recap to build upon this simple methodology with new knowledge on multivariate modeling techniques (which perform better as compared with ANOVA when aiming to measure change due to an intervention). But please keep the necessity of assumption-tests for ANOVA in mind. "
   ]
  },
  {
   "cell_type": "markdown",
   "metadata": {},
   "source": [
    "### 4. ANOVA\n",
    "\n",
    "Provided that the assumptions are met, we can proceed to perform the analysis of variance (ANOVA), by using the `anova()` function from the `pingouin` package. Within the function, dependent and independent variables, as well as the data frame must be specified:"
   ]
  },
  {
   "cell_type": "code",
   "execution_count": 5,
   "metadata": {},
   "outputs": [
    {
     "name": "stdout",
     "output_type": "stream",
     "text": [
      "          Source            SS  DF           MS         F     p-unc       np2\n",
      "0  lockdown_type   4670.013748   2  2335.006874  4.648587  0.012075  0.096547\n",
      "1         Within  43700.501505  87   502.304615       NaN       NaN       NaN\n"
     ]
    }
   ],
   "source": [
    "# Perform ANOVA\n",
    "anova1 = pg.anova(dv='life_satisfaction', between='lockdown_type', data=lock_data, detailed=True)\n",
    "\n",
    "# Display the ANOVA results\n",
    "print(anova1)"
   ]
  },
  {
   "cell_type": "markdown",
   "metadata": {},
   "source": [
    "### 5. Interpretation\n",
    "The test statistic used in the context of ANOVA is the F-statistic (you probably remember it from regression analysis). In the context of a one-way ANOVA, this is the result of dividing the mean sum of squares provided in the output (2335.0) by the mean squared residual (502.3). Its probability is obtained when contrasting this value to its probability distribution. In essence, it quantifies how much variance a model explains (systematic), relative to the unexplained (unsystematic variance). Thus, we frequently - but not always - hope to obtain larger F-statistic values. "
   ]
  },
  {
   "cell_type": "markdown",
   "metadata": {},
   "source": [
    "### 6. Simple linear regression with categorical variables\n",
    "\n",
    "Remember that ANOVA is a special case of the general linear model. Use the following code chunk to run a simple linear regression model using the *ols()* function and then explore the results with the *summary()* function."
   ]
  },
  {
   "cell_type": "code",
   "execution_count": 3,
   "metadata": {},
   "outputs": [
    {
     "name": "stdout",
     "output_type": "stream",
     "text": [
      "                            OLS Regression Results                            \n",
      "==============================================================================\n",
      "Dep. Variable:      life_satisfaction   R-squared:                       0.097\n",
      "Model:                            OLS   Adj. R-squared:                  0.076\n",
      "Method:                 Least Squares   F-statistic:                     4.649\n",
      "Date:                Wed, 16 Apr 2025   Prob (F-statistic):             0.0121\n",
      "Time:                        14:03:13   Log-Likelihood:                -406.04\n",
      "No. Observations:                  90   AIC:                             818.1\n",
      "Df Residuals:                      87   BIC:                             825.6\n",
      "Df Model:                           2                                         \n",
      "Covariance Type:            nonrobust                                         \n",
      "=============================================================================================\n",
      "                                coef    std err          t      P>|t|      [0.025      0.975]\n",
      "---------------------------------------------------------------------------------------------\n",
      "Intercept                    54.7084      4.092     13.370      0.000      46.575      62.841\n",
      "lockdown_type[T.mild]        -9.1327      5.787     -1.578      0.118     -20.635       2.369\n",
      "lockdown_type[T.moderate]   -17.6410      5.787     -3.048      0.003     -29.143      -6.139\n",
      "==============================================================================\n",
      "Omnibus:                       11.712   Durbin-Watson:                   2.076\n",
      "Prob(Omnibus):                  0.003   Jarque-Bera (JB):                3.804\n",
      "Skew:                          -0.095   Prob(JB):                        0.149\n",
      "Kurtosis:                       2.011   Cond. No.                         3.73\n",
      "==============================================================================\n",
      "\n",
      "Notes:\n",
      "[1] Standard Errors assume that the covariance matrix of the errors is correctly specified.\n"
     ]
    }
   ],
   "source": [
    "# Perform linear regression\n",
    "model = ols('life_satisfaction ~ lockdown_type', data=lock_data).fit()\n",
    "\n",
    "# Display the summary of the regression model\n",
    "print(model.summary())"
   ]
  },
  {
   "cell_type": "markdown",
   "metadata": {},
   "source": [
    "### 7. Post hoc Analysis\n",
    "Remember that ANOVA tests for all differences among conditions. It is an \"omnibus\" test. That is, a significant result will inform you about a significant difference but the precise \"location\" of the difference remains unknown. There are two options to identify which conditions differ significantly. Is moderate lock-down different in terms of life satisfaction from mild lock-down, or does only extreme lock-down differ from mild lock-down in terms of life satisfaction? One could use planned contrasts or conduct a post hoc analysis. In this example, we will perform a post hoc analysis:\n",
    "\n",
    "`pairwise_tukeyhsd` (Honest Significant Difference) allows for the identification of significant differences in pairwise comparisons by estimating an adjusted p-value. Note that this is only one of several ways in which post hoc analysis can be performed. Different methods and corresponding functions will have advantages and disadvantages and therefore be more suited for particular situations."
   ]
  },
  {
   "cell_type": "code",
   "execution_count": 4,
   "metadata": {},
   "outputs": [
    {
     "name": "stdout",
     "output_type": "stream",
     "text": [
      "\n",
      "Tukey's HSD test results:\n",
      "  Multiple Comparison of Means - Tukey HSD, FWER=0.05   \n",
      "========================================================\n",
      " group1  group2  meandiff p-adj   lower    upper  reject\n",
      "--------------------------------------------------------\n",
      "extreme     mild  -9.1327 0.2605 -22.9312  4.6658  False\n",
      "extreme moderate  -17.641 0.0085 -31.4395 -3.8425   True\n",
      "   mild moderate  -8.5083 0.3102 -22.3068  5.2902  False\n",
      "--------------------------------------------------------\n"
     ]
    }
   ],
   "source": [
    "# Perform Tukey's HSD test\n",
    "tukey = pairwise_tukeyhsd(endog=lock_data['life_satisfaction'], groups=lock_data['lockdown_type'], alpha=0.05)\n",
    "\n",
    "# Display the results of Tukey's HSD test\n",
    "print(\"\\nTukey's HSD test results:\")\n",
    "print(tukey)"
   ]
  },
  {
   "cell_type": "markdown",
   "metadata": {},
   "source": [
    "### 8. Interpretation\n",
    "Please interpret the output. Which groups differ substantially in terms of life satisfaction?"
   ]
  }
 ],
 "metadata": {
  "kernelspec": {
   "display_name": "Python 3",
   "language": "python",
   "name": "python3"
  },
  "language_info": {
   "codemirror_mode": {
    "name": "ipython",
    "version": 3
   },
   "file_extension": ".py",
   "mimetype": "text/x-python",
   "name": "python",
   "nbconvert_exporter": "python",
   "pygments_lexer": "ipython3",
   "version": "3.11.0"
  }
 },
 "nbformat": 4,
 "nbformat_minor": 2
}
