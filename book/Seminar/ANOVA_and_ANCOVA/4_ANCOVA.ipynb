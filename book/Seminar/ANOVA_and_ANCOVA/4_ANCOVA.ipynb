{
 "cells": [
  {
   "cell_type": "markdown",
   "metadata": {},
   "source": [
    "## ANCOVA\n",
    "\n",
    "### 1. Importing the libraries\n",
    "First, let us set the environment by importing the libraries"
   ]
  },
  {
   "cell_type": "code",
   "execution_count": 1,
   "metadata": {},
   "outputs": [],
   "source": [
    "import warnings\n",
    "warnings.filterwarnings('ignore')\n",
    "\n",
    "import pandas as pd\n",
    "import numpy as np\n",
    "import seaborn as sns\n",
    "import matplotlib.pyplot as plt\n",
    "import pingouin as pg\n",
    "import statsmodels.api as sm\n",
    "from patsy.contrasts import ContrastMatrix\n",
    "from scipy.stats import pearsonr\n",
    "from statsmodels.formula.api import ols\n",
    "from statsmodels.stats.anova import anova_lm"
   ]
  },
  {
   "cell_type": "markdown",
   "metadata": {},
   "source": [
    "### 2. Data exploration\n",
    "The \"depression\" data frame has been loaded for you. It contains information from 100 patients who agreed to participate in a study aiming to investigate the effects of a new intensive depression therapy. Relevant variables are: \"group\" (0 = control, 1 = treatment), \"pre\"- and \"post\"-therapy depression scores, \"EM\", a score reflecting emotional intelligence (it is suspected that this variable can influence the treatment outcome) and \"change\", which is computed by subtracting \"pre\" from \"post\"-therapy depression. Our task is to investigate whether the intensive therapy is effective at reducing self-reported depression. "
   ]
  },
  {
   "cell_type": "code",
   "execution_count": 2,
   "metadata": {},
   "outputs": [
    {
     "name": "stdout",
     "output_type": "stream",
     "text": [
      "   id  group  pre  post  EM  change\n",
      "0   1      0   34    76  25      42\n",
      "1   2      0   87    51  34     -36\n",
      "2   3      0   68    71  15       3\n",
      "3   4      0   38    72  41      34\n",
      "4   5      0   82    47  14     -35\n",
      "\n",
      "Statistical description of the data:\n",
      "               id       group         pre        post          EM      change\n",
      "count  100.000000  100.000000  100.000000  100.000000  100.000000  100.000000\n",
      "mean    50.500000    0.500000   60.830000   46.640000   25.760000  -14.190000\n",
      "std     29.011492    0.502519   16.736855   19.779348    9.721495   25.343178\n",
      "min      1.000000    0.000000   31.000000   14.000000   10.000000  -69.000000\n",
      "25%     25.750000    0.000000   48.000000   31.500000   16.000000  -32.000000\n",
      "50%     50.500000    0.500000   60.000000   47.500000   25.500000  -15.000000\n",
      "75%     75.250000    1.000000   75.250000   59.000000   34.000000    7.250000\n",
      "max    100.000000    1.000000   90.000000   87.000000   45.000000   42.000000\n"
     ]
    }
   ],
   "source": [
    "# Read the CSV file using a relative path\n",
    "depression = pd.read_csv(\"../ANOVA_and_ANCOVA/Datasets/depression.csv\")\n",
    "\n",
    "# Display the first few rows of the dataframe\n",
    "print(depression.head())\n",
    "\n",
    "# Describe the dataframe\n",
    "print(\"\\nStatistical description of the data:\")\n",
    "print(depression.describe())"
   ]
  },
  {
   "cell_type": "markdown",
   "metadata": {},
   "source": [
    "### 3. Background\n",
    "\n",
    "As you learned in the theoretical session of the seminar, back in the day \n",
    "researchers used to follow a two-step analysis approach to investigate whether a treatment effect is different between individuals, for example if some individuals change more than others during a drug treatment. They calculated the change score for every observation and correlated the change score with the covariate of interest. We provide an example below for illustration purposes but remember the disadvantages of this method **(remember: range restriction of the change score)**. This two step approach is not acceptable today!"
   ]
  },
  {
   "cell_type": "code",
   "execution_count": 3,
   "metadata": {},
   "outputs": [
    {
     "name": "stdout",
     "output_type": "stream",
     "text": [
      "Pearson correlation: 0.07270882951614406\n",
      "P-value: 0.4722029695800074\n"
     ]
    }
   ],
   "source": [
    "# Perform a correlation test\n",
    "correlation, p_value = pearsonr(depression['EM'], depression['change'])\n",
    "print(f\"Pearson correlation: {correlation}\")\n",
    "print(f\"P-value: {p_value}\")"
   ]
  },
  {
   "cell_type": "markdown",
   "metadata": {},
   "source": [
    "### 4. Concept of ANCOVA\n",
    "ANCOVA (analysis of covariance) is frequently referred to as a combination of ANOVA and a simple or multiple regression with non-categorical predictors. That is because the ANCOVA framework allows to investigate differences between different groups (levels of an independent variable) when controlling / partialling out / adjusting for one or more covariates that are relevant to the investigation. In other words, ANCOVA evaluates differences in a dependent variable after the effect of one or more covariates has been removed. This is very important, especially when suspecting that a covariate may influence the effect of the independent variable. Its main goal is therefore to eliminate confounds and to reduce within-group error variance, thus increasing **internal validity**. Keep in mind however that this is true when the groups to be compared do not differ significantly in their levels of the covariate. In fact this is one of the assumptions of ANCOVA.\n",
    "\n",
    "In the context of analyzing pre-post design data including a treatment and a control group, ANCOVA is generally used to explore adjusted group effects. That is, ANCOVA will determine whether there is a group effect on the outcome variable regardless of the starting values (where the participants started)."
   ]
  },
  {
   "cell_type": "markdown",
   "metadata": {},
   "source": [
    "### 5. Assumption\n",
    "We will not check for the following assumptions but please mind them if you intend to use ANCOVA in your later research. \n",
    "\n",
    "1. As outlined above, the treatment (independent variable) and the covariate to be controlled for must be independent. \n",
    "\n",
    "2. Homogeneity of regression slopes: ANCOVA fits a regression with the covariate as a predictor of the dependent variable for the entire data set. It is expected that the slopes within each group are not significantly different, so the overall model is a good representation of this individual slopes."
   ]
  },
  {
   "cell_type": "markdown",
   "metadata": {},
   "source": [
    "### 6. Computation (Exercise 3)\n",
    "Given that ANCOVA is an extension of ANOVA and both are especial cases of the general linear model, it is not surprising that we can use the `anova_lm()` function. Please note that ANCOVA does not help us to investigate individual differences in change.\n",
    "\n",
    "We can run the ANCOVA model to investigate whether the outcomes of the therapy are different between groups while accounting for the starting scores (\"pre\" variable). \n",
    "\n",
    "1. Set proper contrasts for your factor (group).\n",
    "2. Specify and fir the model with `ols()`\n",
    "3. Run the ANCOVA with `anova_lm()`\n",
    "4. Use the summary() function to inspect the results."
   ]
  },
  {
   "cell_type": "code",
   "execution_count": 4,
   "metadata": {},
   "outputs": [
    {
     "name": "stdout",
     "output_type": "stream",
     "text": [
      "Type III ANOVA Results:\n",
      "                                sum_sq    df          F        PR(>F)\n",
      "Intercept                 14312.910843   1.0  63.937373  2.735472e-12\n",
      "C(group, contrast_group)  16942.129734   1.0  75.682387  8.570490e-14\n",
      "pre                          12.625995   1.0   0.056402  8.127772e-01\n",
      "Residual                  21714.254005  97.0        NaN           NaN\n",
      "\n",
      "ANCOVA Model Summary:\n",
      "                            OLS Regression Results                            \n",
      "==============================================================================\n",
      "Dep. Variable:                   post   R-squared:                       0.439\n",
      "Model:                            OLS   Adj. R-squared:                  0.428\n",
      "Method:                 Least Squares   F-statistic:                     38.01\n",
      "Date:                Tue, 15 Apr 2025   Prob (F-statistic):           6.48e-13\n",
      "Time:                        08:47:40   Log-Likelihood:                -410.92\n",
      "No. Observations:                 100   AIC:                             827.8\n",
      "Df Residuals:                      97   BIC:                             835.7\n",
      "Df Model:                           2                                         \n",
      "Covariance Type:            nonrobust                                         \n",
      "==========================================================================================================\n",
      "                                             coef    std err          t      P>|t|      [0.025      0.975]\n",
      "----------------------------------------------------------------------------------------------------------\n",
      "Intercept                                 45.3411      5.670      7.996      0.000      34.087      56.595\n",
      "C(group, contrast_group)contrast_group   -13.0261      1.497     -8.700      0.000     -15.998     -10.054\n",
      "pre                                        0.0214      0.090      0.237      0.813      -0.157       0.200\n",
      "==============================================================================\n",
      "Omnibus:                       21.452   Durbin-Watson:                   2.220\n",
      "Prob(Omnibus):                  0.000   Jarque-Bera (JB):                5.072\n",
      "Skew:                           0.046   Prob(JB):                       0.0792\n",
      "Kurtosis:                       1.900   Cond. No.                         239.\n",
      "==============================================================================\n",
      "\n",
      "Notes:\n",
      "[1] Standard Errors assume that the covariance matrix of the errors is correctly specified.\n",
      "\n",
      "Contrasts for 'group':\n",
      "[[-1]\n",
      " [ 1]]\n"
     ]
    }
   ],
   "source": [
    "# Define contrasts for the `group` variable\n",
    "contrast_group = ContrastMatrix(np.array([[-1], [1]]), [\"contrast_group\"])\n",
    "\n",
    "# Assign contrasts to the `group` variable\n",
    "depression['group'] = depression['group'].astype('category')\n",
    "\n",
    "# Fit the ANCOVA model\n",
    "model = ols('post ~ pre + C(group, contrast_group)', data=depression).fit()\n",
    "\n",
    "# Perform Type III ANOVA\n",
    "anova_results = anova_lm(model, typ=3)\n",
    "\n",
    "# Display the Type III ANOVA results\n",
    "print(\"Type III ANOVA Results:\")\n",
    "print(anova_results)\n",
    "\n",
    "# Display the summary of the ANCOVA model\n",
    "print(\"\\nANCOVA Model Summary:\")\n",
    "print(model.summary())\n",
    "\n",
    "# Display the contrasts for the `group` variable\n",
    "print(\"\\nContrasts for 'group':\")\n",
    "print(contrast_group.matrix)"
   ]
  },
  {
   "cell_type": "markdown",
   "metadata": {},
   "source": [
    "### 7. Interpretation\n",
    "The output tells us that the covariate \"pre\" does not have a significant effect (t = 0.237, p = 0.813) on the outcome variable (scores after \n",
    "the intervention). In addition, there is a significant group effect (t = -8.7, p = 0) on the dependent variable. Taken together these results are of great importance for longitudinal studies, as they indicate that the differences across groups are not due to the initial scores of the participants. In other words, we are now more confident that significant differences across groups are related to the different treatments that they received and not to the baseline values. "
   ]
  }
 ],
 "metadata": {
  "kernelspec": {
   "display_name": "Python 3",
   "language": "python",
   "name": "python3"
  },
  "language_info": {
   "codemirror_mode": {
    "name": "ipython",
    "version": 3
   },
   "file_extension": ".py",
   "mimetype": "text/x-python",
   "name": "python",
   "nbconvert_exporter": "python",
   "pygments_lexer": "ipython3",
   "version": "3.11.0"
  }
 },
 "nbformat": 4,
 "nbformat_minor": 2
}
