{
 "cells": [
  {
   "cell_type": "markdown",
   "metadata": {},
   "source": [
    "## One-way ANOVA within subject\n",
    "### 1. Importing the libraries\n",
    "First, let us set the environment by importing the libraries"
   ]
  },
  {
   "cell_type": "code",
   "execution_count": 1,
   "metadata": {},
   "outputs": [],
   "source": [
    "import warnings\n",
    "warnings.filterwarnings('ignore')\n",
    "\n",
    "import pandas as pd\n",
    "import seaborn as sns\n",
    "import matplotlib.pyplot as plt\n",
    "import pingouin as pg\n",
    "from statsmodels.formula.api import ols\n",
    "from statsmodels.stats.anova import AnovaRM"
   ]
  },
  {
   "cell_type": "markdown",
   "metadata": {},
   "source": [
    "### 2. Data visualization and descriptive statistics: An example\n",
    "Let us now consider a different example: During the pandemic the university of Oldenburg offered remote courses for one year to cope with the restrictions on gathering with others. It isn't clear whether 1) offering online lectures, 2) providing previously recorded lectures or 3) simply uploading learning materials worked best in terms of learning outcomes. To answer this question, one hundred students were recruited to participate in a study. All participants experienced all 3 types of learning strategies (independent variable with 3 levels) and took a test that measured the amount of content learned (dependent variable).\n",
    "\n",
    "First, let us load and explore the data. Be aware of the difference between this data frame and the one we worked with in the previous section. One of them is a long-format data frame, whereas the other one is a wide-format data frame."
   ]
  },
  {
   "cell_type": "code",
   "execution_count": 2,
   "metadata": {},
   "outputs": [
    {
     "name": "stdout",
     "output_type": "stream",
     "text": [
      "   student      mode   learning\n",
      "0        1      live  88.452760\n",
      "1        1  recorded  32.321198\n",
      "2        1  material  71.672626\n",
      "3        2      live  54.544869\n",
      "4        2  recorded  50.887183\n"
     ]
    }
   ],
   "source": [
    "# Read the CSV file using a relative path\n",
    "learn_data = pd.read_csv(\"../ANOVA_and_ANCOVA/Datasets/learn_data.csv\")\n",
    "\n",
    "# Display the first few rows of the dataframe\n",
    "print(learn_data.head())"
   ]
  },
  {
   "cell_type": "markdown",
   "metadata": {},
   "source": [
    "Now, let us explore the data using `describe()` to show the means and other descriptive statistics."
   ]
  },
  {
   "cell_type": "code",
   "execution_count": 3,
   "metadata": {},
   "outputs": [
    {
     "name": "stdout",
     "output_type": "stream",
     "text": [
      "          student    learning\n",
      "count  300.000000  300.000000\n",
      "mean    50.500000   54.532774\n",
      "std     28.914301   28.186536\n",
      "min      1.000000    0.974114\n",
      "25%     25.750000   32.123860\n",
      "50%     50.500000   54.431410\n",
      "75%     75.250000   79.455071\n",
      "max    100.000000   99.509591\n"
     ]
    }
   ],
   "source": [
    "# Get a summary of statistics\n",
    "summary = learn_data.describe()\n",
    "\n",
    "# Display the summary\n",
    "print(summary)"
   ]
  },
  {
   "cell_type": "markdown",
   "metadata": {},
   "source": [
    "Boxplots provide an overview of the data distribution and some intuition as to the results we might expect. In addition, boxplots enable us to identify potential outliers, which should be removed as part of a preprocessing (data cleaning) step prior to data analysis. The following code chunk illustrates code for creating boxplots using `boxplot()`. Run it to see what happens."
   ]
  },
  {
   "cell_type": "code",
   "execution_count": 4,
   "metadata": {},
   "outputs": [
    {
     "data": {
      "image/png": "[encoded data removed]",
      "text/plain": [
       "<Figure size 1000x600 with 1 Axes>"
      ]
     },
     "metadata": {},
     "output_type": "display_data"
    }
   ],
   "source": [
    "# Create the boxplot\n",
    "plt.figure(figsize=(10, 6))\n",
    "sns.boxplot(data=learn_data, x='mode', y='learning', palette='Set2')\n",
    "\n",
    "# Customize the plot\n",
    "plt.xlabel(\"Mode\")\n",
    "plt.ylabel(\"Learning\")\n",
    "plt.title(\"Learning Outcomes by Mode\")\n",
    "plt.grid(True)\n",
    "\n",
    "# Show the plot\n",
    "plt.show()"
   ]
  },
  {
   "cell_type": "markdown",
   "metadata": {},
   "source": [
    "### 3. ANOVA\n",
    "\n",
    "Now we can run the one-way within-subjects ANOVA. The function includes the dependent variable and an argument specifying the \"unit\" or \"observation\" column (in this case \"student\"). That is, the variable specifying the observations that underwent the different levels of the independent variable."
   ]
  },
  {
   "cell_type": "code",
   "execution_count": 5,
   "metadata": {},
   "outputs": [
    {
     "name": "stdout",
     "output_type": "stream",
     "text": [
      "  Source  ddof1  ddof2         F     p-unc       ng2      eps\n",
      "0   mode      2    198  4.662057  0.010508  0.030181  0.97248\n"
     ]
    }
   ],
   "source": [
    "# Perform one-way within-subjects ANOVA\n",
    "anova2 = pg.rm_anova(dv='learning', within='mode', subject='student', data=learn_data, detailed=False)\n",
    "\n",
    "# Display the ANOVA results\n",
    "print(anova2)"
   ]
  },
  {
   "cell_type": "code",
   "execution_count": 6,
   "metadata": {},
   "outputs": [
    {
     "name": "stdout",
     "output_type": "stream",
     "text": [
      "               Anova\n",
      "===================================\n",
      "     F Value Num DF  Den DF  Pr > F\n",
      "-----------------------------------\n",
      "mode  4.6621 2.0000 198.0000 0.0105\n",
      "===================================\n",
      "\n"
     ]
    }
   ],
   "source": [
    "# Fit the model using statsmodels for within-subjects ANOVA\n",
    "aovrm = AnovaRM(data=learn_data, depvar='learning', subject='student', within=['mode'])\n",
    "anova_results = aovrm.fit()\n",
    "\n",
    "# Display the ANOVA results\n",
    "print(anova_results)\n"
   ]
  },
  {
   "cell_type": "markdown",
   "metadata": {},
   "source": [
    "### 4. Interpretation\n",
    "The mode factor has a statistically significant effect on the learning variable (p = 0.010508)"
   ]
  },
  {
   "cell_type": "markdown",
   "metadata": {},
   "source": [
    "### 5. Post hoc Analysis\n",
    "As in the previous examples, in case of significant results, post hoc analysis must be conducted. TukeyHSD() does not work with within-subjects ANOVA objects easily. Therefore, we can use an alternative function from the `pingouin` package: `pairwise_ttest()`."
   ]
  },
  {
   "cell_type": "code",
   "execution_count": 7,
   "metadata": {},
   "outputs": [
    {
     "name": "stdout",
     "output_type": "stream",
     "text": [
      "  Contrast         A         B  Paired  Parametric         T   dof  \\\n",
      "0     mode      live  material    True        True  2.976556  99.0   \n",
      "1     mode      live  recorded    True        True  2.521594  99.0   \n",
      "2     mode  material  recorded    True        True -0.291264  99.0   \n",
      "\n",
      "  alternative     p-unc    p-corr    p-adjust   BF10    hedges  \n",
      "0   two-sided  0.003664  0.010993  bonferroni  6.908  0.414810  \n",
      "1   two-sided  0.013278  0.039834  bonferroni  2.226  0.359716  \n",
      "2   two-sided  0.771459  1.000000  bonferroni  0.115 -0.040501  \n"
     ]
    }
   ],
   "source": [
    "# Perform pairwise t-tests with Bonferroni correction\n",
    "pairwise_results = pg.pairwise_ttests(dv='learning', within='mode', subject='student', data=learn_data, padjust='bonferroni')\n",
    "\n",
    "# Display the pairwise t-test results\n",
    "print(pairwise_results)"
   ]
  },
  {
   "cell_type": "markdown",
   "metadata": {},
   "source": [
    "We observe a significant effect of learning strategies. Specifically, live lectures seem to outperform the other two methodologies. Note that Bonferroni correction for multiple testing has been employed. "
   ]
  }
 ],
 "metadata": {
  "kernelspec": {
   "display_name": "Python 3",
   "language": "python",
   "name": "python3"
  },
  "language_info": {
   "codemirror_mode": {
    "name": "ipython",
    "version": 3
   },
   "file_extension": ".py",
   "mimetype": "text/x-python",
   "name": "python",
   "nbconvert_exporter": "python",
   "pygments_lexer": "ipython3",
   "version": "3.11.0"
  }
 },
 "nbformat": 4,
 "nbformat_minor": 2
}
