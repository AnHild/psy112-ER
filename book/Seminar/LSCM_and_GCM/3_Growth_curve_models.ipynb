{
 "cells": [
  {
   "cell_type": "markdown",
   "metadata": {},
   "source": [
    "## Growth Curve Model (GCM)\n",
    "\n",
    "### 1. Introduction\n",
    "\n",
    "The last family of models used for the measurement of change that we will cover is Growth Curve Models (GCMs). These models are ideal for research scenarios with **several** repeated measurements over time. In other words, these models are a good choice when working with more intense longitudinal data. The reason for this is that we will not be only looking at differences between 2 time-points, but at a trajectory of change over time. "
   ]
  },
  {
   "cell_type": "code",
   "execution_count": 1,
   "metadata": {},
   "outputs": [
    {
     "name": "stderr",
     "output_type": "stream",
     "text": [
      "c:\\Users\\danie\\.conda\\envs\\psy112ER\\Lib\\site-packages\\rpy2\\robjects\\packages.py:367: UserWarning: The symbol 'quartz' is not in this R namespace/package.\n",
      "  warnings.warn(\n"
     ]
    }
   ],
   "source": [
    "#######################################################\n",
    "## Specify R environment for rpy2\n",
    "#import os\n",
    "#os.environ['R_HOME'] = r'C:/Program Files/R/R-4.4.3'  # Replace with your R path\n",
    "import rpy2.robjects as ro\n",
    "from rpy2.robjects import pandas2ri\n",
    "from rpy2.robjects.packages import importr\n",
    "from rpy2.robjects import Formula\n",
    "import contextlib\n",
    "# Ipython extension for plotting\n",
    "%load_ext rpy2.ipython\n",
    "########################################################\n",
    "\n",
    "import warnings\n",
    "warnings.filterwarnings('ignore')\n",
    "\n",
    "import pandas as pd\n",
    "import seaborn as sns\n",
    "import matplotlib.pyplot as plt\n",
    "from IPython.display import Image, display"
   ]
  },
  {
   "cell_type": "markdown",
   "metadata": {},
   "source": [
    "### 2. Data Exploration\n",
    "\n",
    "The `anx` data frame contains results from an anxiety test applied to 485 children at 4 different time-points (t1, t2, t3, t4). Additionally, the data frame contains binary-coded information about the parents' employment status (0 = at least one parent is unemployed, 1 = employed). This variable was considered given the growing evidence that early anxiety can be elicited by whether or not the parents have a job. Feel free to use the code chunks to explore the data frames and gain a good overview."
   ]
  },
  {
   "cell_type": "code",
   "execution_count": 2,
   "metadata": {},
   "outputs": [
    {
     "name": "stdout",
     "output_type": "stream",
     "text": [
      "   id  ES        t1        t2        t3        t4\n",
      "0   1   0  1.714286  1.500000  1.714286  1.928571\n",
      "1   2   0  1.642857  1.642857  1.214286  1.928571\n",
      "2   3   1  1.642857  2.000000  1.928571  1.857143\n",
      "3   4   0  1.428571  1.857143  1.928571  1.857143\n",
      "4   5   1  1.214286  1.571429  1.428571  1.785714\n"
     ]
    }
   ],
   "source": [
    "# Read the CSV file using a relative path\n",
    "anx = pd.read_csv(\"../LSCM_and_GCM/Datasets/anx.csv\")\n",
    "\n",
    "# Display the first few rows of the dataframe\n",
    "print(anx.head())"
   ]
  },
  {
   "cell_type": "markdown",
   "metadata": {},
   "source": [
    "### 3. Linear GCM: Model Specification and Fit\n",
    "\n",
    "Linear GCM models assume that change over time is linear. Although the `sem()` function could be used, it is better to employ the `growth()` function of `lavaan` because it includes special default settings for these models. \n",
    "\n",
    "In order to define a GCM, you should keep in mind that 2 latent variables representing the intercept and the slope need to be specified. All measured variables (time-points) in the data file should be regressed onto these two factors, such that their loadings are differently constrained: Whereas all factor loadings on the latent intercept are fixed to 1, the factor loadings on the latent slope factor are fixed as linearly increasing units (0, 1, 2, ..., t - depending on the number of measurement time-points). The next code declares, fits and plots a linear GCM:"
   ]
  },
  {
   "cell_type": "code",
   "execution_count": 3,
   "metadata": {},
   "outputs": [
    {
     "name": "stderr",
     "output_type": "stream",
     "text": [
      "R[write to console]: This is lavaan 0.6-19\n",
      "lavaan is FREE software! Please report any bugs.\n",
      "\n"
     ]
    },
    {
     "name": "stdout",
     "output_type": "stream",
     "text": [
      "lavaan 0.6-19 ended normally after 45 iterations\n",
      "\n",
      "  Estimator                                         ML\n",
      "  Optimization method                           NLMINB\n",
      "  Number of model parameters                         9\n",
      "\n",
      "  Number of observations                           485\n",
      "\n",
      "Model Test User Model:\n",
      "                                                      \n",
      "  Test statistic                                27.288\n",
      "  Degrees of freedom                                 5\n",
      "  P-value (Chi-square)                           0.000\n",
      "\n",
      "Model Test Baseline Model:\n",
      "\n",
      "  Test statistic                              1182.102\n",
      "  Degrees of freedom                                 6\n",
      "  P-value                                        0.000\n",
      "\n",
      "User Model versus Baseline Model:\n",
      "\n",
      "  Comparative Fit Index (CFI)                    0.981\n",
      "  Tucker-Lewis Index (TLI)                       0.977\n",
      "\n",
      "Loglikelihood and Information Criteria:\n",
      "\n",
      "  Loglikelihood user model (H0)               -567.499\n",
      "  Loglikelihood unrestricted model (H1)       -553.855\n",
      "                                                      \n",
      "  Akaike (AIC)                                1152.997\n",
      "  Bayesian (BIC)                              1190.654\n",
      "  Sample-size adjusted Bayesian (SABIC)       1162.089\n",
      "\n",
      "Root Mean Square Error of Approximation:\n",
      "\n",
      "  RMSEA                                          0.096\n",
      "  90 Percent confidence interval - lower         0.063\n",
      "  90 Percent confidence interval - upper         0.133\n",
      "  P-value H_0: RMSEA <= 0.050                    0.013\n",
      "  P-value H_0: RMSEA >= 0.080                    0.800\n",
      "\n",
      "Standardized Root Mean Square Residual:\n",
      "\n",
      "  SRMR                                           0.053\n",
      "\n",
      "Parameter Estimates:\n",
      "\n",
      "  Standard errors                             Standard\n",
      "  Information                                 Expected\n",
      "  Information saturated (h1) model          Structured\n",
      "\n",
      "Latent Variables:\n",
      "                   Estimate  Std.Err  z-value  P(>|z|)   Std.lv  Std.all\n",
      "  Iw =~                                                                 \n",
      "    t1                1.000                               0.388    0.833\n",
      "    t2                1.000                               0.388    0.906\n",
      "    t3                1.000                               0.388    0.911\n",
      "    t4                1.000                               0.388    0.903\n",
      "  Sw =~                                                                 \n",
      "    t1                0.000                               0.000    0.000\n",
      "    t2                1.000                               0.083    0.193\n",
      "    t3                2.000                               0.166    0.389\n",
      "    t4                3.000                               0.249    0.578\n",
      "\n",
      "Covariances:\n",
      "                   Estimate  Std.Err  z-value  P(>|z|)   Std.lv  Std.all\n",
      "  Iw ~~                                                                 \n",
      "    Sw               -0.011    0.003   -3.472    0.001   -0.349   -0.349\n",
      "\n",
      "Intercepts:\n",
      "                   Estimate  Std.Err  z-value  P(>|z|)   Std.lv  Std.all\n",
      "    Iw                0.698    0.020   35.050    0.000    1.796    1.796\n",
      "    Sw               -0.062    0.006  -10.513    0.000   -0.753   -0.753\n",
      "\n",
      "Variances:\n",
      "                   Estimate  Std.Err  z-value  P(>|z|)   Std.lv  Std.all\n",
      "   .t1                0.067    0.007    8.910    0.000    0.067    0.306\n",
      "   .t2                0.048    0.004   11.119    0.000    0.048    0.264\n",
      "   .t3                0.048    0.004   11.383    0.000    0.048    0.265\n",
      "   .t4                0.040    0.006    6.658    0.000    0.040    0.215\n",
      "    Iw                0.151    0.013   11.871    0.000    1.000    1.000\n",
      "    Sw                0.007    0.001    4.790    0.000    1.000    1.000\n",
      "\n",
      "\n"
     ]
    },
    {
     "data": {
      "image/png": "[encoded data removed]",
      "text/plain": [
       "<IPython.core.display.Image object>"
      ]
     },
     "metadata": {},
     "output_type": "display_data"
    }
   ],
   "source": [
    "# Activate pandas2ri for automatic conversion\n",
    "pandas2ri.activate()\n",
    "\n",
    "# Import the lavaan package in R\n",
    "ro.r('library(lavaan)')\n",
    "\n",
    "# Import semPlot for plotting SEM paths\n",
    "ro.r('library(semPlot)')\n",
    "\n",
    "# Load the dataset into R\n",
    "ro.globalenv['anx'] = pandas2ri.py2rpy(anx)\n",
    "\n",
    "# Define the SEM model\n",
    "ro.r('''\n",
    "GCM1 <- '\n",
    "\n",
    "#Intercept factor loadings are fixed to 1\n",
    "Iw =~ 1*t1 + 1*t2 + 1*t3 + 1*t4\n",
    "\n",
    "#Slope factor loadings are increasingly fixed\n",
    "Sw =~ 0*t1 + 1*t2 + 2*t3 + 3*t4\n",
    "'\n",
    "     \n",
    "''')\n",
    "\n",
    "# Fit the SEM model\n",
    "ro.r('fit4 <- growth(GCM1, data=anx)')\n",
    "\n",
    "# Display the summary of the SEM model\n",
    "summary = ro.r('summary(fit4, fit.measures=TRUE, standardized=TRUE)')\n",
    "print(summary)\n",
    "\n",
    "# Save the SEM path diagram as a PNG file\n",
    "ro.r('''\n",
    "png(\"../LSCM_and_GCM/Datasets/semPath2.png\", width = 2000, height = 1200, res = 150)\n",
    "semPaths(fit4)\n",
    "dev.off()\n",
    "''')\n",
    "\n",
    "# Display the saved SEM path diagram in Jupyter Notebook\n",
    "display(Image(filename=\"../LSCM_and_GCM/Datasets/semPath2.png\"))"
   ]
  },
  {
   "cell_type": "markdown",
   "metadata": {},
   "source": [
    "### 4. Output Interpretation\n",
    "\n",
    "* The intercept estimate of the specified latent intercept factor (0.698) indicates the sample average anxiety score at time 1 (t1).\n",
    "\n",
    "* The intercept estimate of the specified latent slope factor (-0.062) indicates the growth from t1 to t2. Children with positive values on this factor increase their anxiety level, whereas children with negative latent slope factor values are characterized by a decrease on anxiety. On average, there is a decrease (indicated by the negative sign of the average slope factor -0.062). Thus, since factor loadings on the slope factor increase in a linear fashion, this value represents the change over time. \n",
    "\n",
    "* The covariance between the latent intercept and slope factors represent the relationship between the initial values and the degree of change in anxiety along the repeated measures. As such, a positive covariance means that children with higher initial values also exhibit stronger linear growths in anxiety. In our case, the significant negative correlation (-0,011, p < 0.001) tells us the opposite: those with lower initial values of anxiety exhibit stronger linear growths in anxiety.\n",
    "\n",
    "* Lastly, the variances of the latent intercept (0.151) and slope (0.007) factors inform us about the magnitude of individual differences in initial values and the linear growth. In these models, intercept and slopes are treated as random effects, meaning that they take different values for different individuals. These are crucial estimates which help us to understand change from the viewpoint of individual differences. "
   ]
  },
  {
   "cell_type": "markdown",
   "metadata": {},
   "source": [
    "### 5. Non-linear GCM: Model Specification and Fit\n",
    "\n",
    "The essential difference between linear and non-linear GCMs is that, whereas the former assumes a linear growth, the latter allows us to assess different (non-linear) growth patterns, such as a quadratic shape or a sudden growth after an intervention. An exploratory non-linear GCM is defined by allowing intermediate loadings on the latent slope factor to be freely estimated: "
   ]
  },
  {
   "cell_type": "code",
   "execution_count": 4,
   "metadata": {},
   "outputs": [
    {
     "name": "stdout",
     "output_type": "stream",
     "text": [
      "lavaan 0.6-19 ended normally after 54 iterations\n",
      "\n",
      "  Estimator                                         ML\n",
      "  Optimization method                           NLMINB\n",
      "  Number of model parameters                        11\n",
      "\n",
      "  Number of observations                           485\n",
      "\n",
      "Model Test User Model:\n",
      "                                                      \n",
      "  Test statistic                                12.846\n",
      "  Degrees of freedom                                 3\n",
      "  P-value (Chi-square)                           0.005\n",
      "\n",
      "Model Test Baseline Model:\n",
      "\n",
      "  Test statistic                              1182.102\n",
      "  Degrees of freedom                                 6\n",
      "  P-value                                        0.000\n",
      "\n",
      "User Model versus Baseline Model:\n",
      "\n",
      "  Comparative Fit Index (CFI)                    0.992\n",
      "  Tucker-Lewis Index (TLI)                       0.983\n",
      "\n",
      "Loglikelihood and Information Criteria:\n",
      "\n",
      "  Loglikelihood user model (H0)               -560.278\n",
      "  Loglikelihood unrestricted model (H1)       -553.855\n",
      "                                                      \n",
      "  Akaike (AIC)                                1142.555\n",
      "  Bayesian (BIC)                              1188.581\n",
      "  Sample-size adjusted Bayesian (SABIC)       1153.668\n",
      "\n",
      "Root Mean Square Error of Approximation:\n",
      "\n",
      "  RMSEA                                          0.082\n",
      "  90 Percent confidence interval - lower         0.040\n",
      "  90 Percent confidence interval - upper         0.131\n",
      "  P-value H_0: RMSEA <= 0.050                    0.098\n",
      "  P-value H_0: RMSEA >= 0.080                    0.589\n",
      "\n",
      "Standardized Root Mean Square Residual:\n",
      "\n",
      "  SRMR                                           0.040\n",
      "\n",
      "Parameter Estimates:\n",
      "\n",
      "  Standard errors                             Standard\n",
      "  Information                                 Expected\n",
      "  Information saturated (h1) model          Structured\n",
      "\n",
      "Latent Variables:\n",
      "                   Estimate  Std.Err  z-value  P(>|z|)   Std.lv  Std.all\n",
      "  Iw =~                                                                 \n",
      "    t1                1.000                               0.405    0.896\n",
      "    t2                1.000                               0.405    0.944\n",
      "    t3                1.000                               0.405    0.952\n",
      "    t4                1.000                               0.405    0.931\n",
      "  Sw =~                                                                 \n",
      "    t1                0.000                               0.000    0.000\n",
      "    t2                1.712    0.179    9.544    0.000    0.166    0.387\n",
      "    t3                2.441    0.160   15.273    0.000    0.237    0.557\n",
      "    t4                3.000                               0.291    0.669\n",
      "\n",
      "Covariances:\n",
      "                   Estimate  Std.Err  z-value  P(>|z|)   Std.lv  Std.all\n",
      "  Iw ~~                                                                 \n",
      "    Sw               -0.017    0.005   -3.188    0.001   -0.444   -0.444\n",
      "\n",
      "Intercepts:\n",
      "                   Estimate  Std.Err  z-value  P(>|z|)   Std.lv  Std.all\n",
      "    Iw                0.723    0.021   35.213    0.000    1.784    1.784\n",
      "    Sw               -0.066    0.006  -10.684    0.000   -0.681   -0.681\n",
      "\n",
      "Variances:\n",
      "                   Estimate  Std.Err  z-value  P(>|z|)   Std.lv  Std.all\n",
      "   .t1                0.040    0.014    2.963    0.003    0.040    0.197\n",
      "   .t2                0.052    0.004   11.615    0.000    0.052    0.283\n",
      "   .t3                0.046    0.004   10.327    0.000    0.046    0.254\n",
      "   .t4                0.045    0.006    7.853    0.000    0.045    0.239\n",
      "    Iw                0.164    0.018    9.344    0.000    1.000    1.000\n",
      "    Sw                0.009    0.002    4.599    0.000    1.000    1.000\n",
      "\n",
      "\n"
     ]
    },
    {
     "data": {
      "image/png": "[encoded data removed]",
      "text/plain": [
       "<IPython.core.display.Image object>"
      ]
     },
     "metadata": {},
     "output_type": "display_data"
    }
   ],
   "source": [
    "# Activate pandas2ri for automatic conversion\n",
    "pandas2ri.activate()\n",
    "\n",
    "# Import the lavaan package in R\n",
    "ro.r('library(lavaan)')\n",
    "\n",
    "# Import semPlot for plotting SEM paths\n",
    "ro.r('library(semPlot)')\n",
    "\n",
    "# Load the dataset into R\n",
    "ro.globalenv['anx'] = pandas2ri.py2rpy(anx)\n",
    "\n",
    "# Define the SEM model\n",
    "ro.r('''\n",
    "GCM2 <-  '\n",
    "#Intercept fixed to 1\n",
    "Iw =~ 1*t1 + 1*t2 + 1*t3 + 1*t4\n",
    "\n",
    "#Intermediate factor loadings are freely estimated\n",
    "Sw =~ 0*t1 + NA*t2 + NA*t3 + 3*t4\n",
    "'\n",
    "     \n",
    "''')\n",
    "\n",
    "# Fit the SEM model\n",
    "ro.r('fit5 <- growth(GCM2, data=anx)')\n",
    "\n",
    "# Display the summary of the SEM model\n",
    "summary = ro.r('summary(fit5, fit.measures=TRUE, standardized=TRUE)')\n",
    "print(summary)\n",
    "\n",
    "# Save the SEM path diagram as a PNG file\n",
    "ro.r('''\n",
    "png(\"../LSCM_and_GCM/Datasets/semPath3.png\", width = 2000, height = 1200, res = 150)\n",
    "semPaths(fit5)\n",
    "dev.off()\n",
    "''')\n",
    "\n",
    "# Display the saved SEM path diagram in Jupyter Notebook\n",
    "display(Image(filename=\"../LSCM_and_GCM/Datasets/semPath3.png\"))"
   ]
  },
  {
   "cell_type": "markdown",
   "metadata": {},
   "source": [
    "### 6. Output Interpretation\n",
    "\n",
    "The only difference in comparison to the output of the previous model is that now the growth over time is not linear. This means that changes from time 1 (t1) to time 2 (t2) is not necessarily the same as between time 2 (t2) and time 3 (t3) and so on. This is represented by the differences between the factor loading values of manifest variables t1, t2, t3, and t4 (0.000, 1.712, 2.441, 3.000) on the latent slope factor. \n"
   ]
  }
 ],
 "metadata": {
  "kernelspec": {
   "display_name": "Python 3",
   "language": "python",
   "name": "python3"
  },
  "language_info": {
   "codemirror_mode": {
    "name": "ipython",
    "version": 3
   },
   "file_extension": ".py",
   "mimetype": "text/x-python",
   "name": "python",
   "nbconvert_exporter": "python",
   "pygments_lexer": "ipython3",
   "version": "3.11.0"
  }
 },
 "nbformat": 4,
 "nbformat_minor": 2
}
