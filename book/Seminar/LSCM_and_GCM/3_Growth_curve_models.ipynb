{
 "cells": [
  {
   "cell_type": "markdown",
   "metadata": {},
   "source": [
    "## Growth Curve Model (GCM)\n",
    "\n",
    "This is a Jupyter Notebook that can be opened in Google Ciolab (if the underlying link as specified in the config.yml exists!).\n",
    "\n",
    "It can do many things, like displaying and executing code:"
   ]
  },
  {
   "cell_type": "code",
   "execution_count": 1,
   "metadata": {},
   "outputs": [],
   "source": [
    "import warnings\n",
    "warnings.filterwarnings('ignore')\n",
    "\n",
    "import pandas as pd\n",
    "import seaborn as sns\n",
    "import matplotlib.pyplot as plt\n",
    "from semopy import Model, ModelMeans, semplot, calc_stats\n",
    "from semopy import ModelMeans\n",
    "from semopy.means import estimate_means"
   ]
  },
  {
   "cell_type": "code",
   "execution_count": null,
   "metadata": {},
   "outputs": [
    {
     "name": "stdout",
     "output_type": "stream",
     "text": [
      "   lval  op rval  Estimate  Std. Err    z-value   p-value\n",
      "0    t1   ~   Iw  1.000000         -          -         -\n",
      "1    t1   ~   Sw  0.000000         -          -         -\n",
      "2    t2   ~   Iw  1.000000         -          -         -\n",
      "3    t2   ~   Sw  1.000000         -          -         -\n",
      "4    t3   ~   Iw  1.000000         -          -         -\n",
      "5    t3   ~   Sw  2.000000         -          -         -\n",
      "6    t4   ~   Iw  1.000000         -          -         -\n",
      "7    t4   ~   Sw  3.000000         -          -         -\n",
      "8    Iw  ~~   Iw  0.068442   0.01018   6.723346       0.0\n",
      "9    Sw  ~~   Sw  0.046316  0.004485   10.32739       0.0\n",
      "10   Sw  ~~   Iw -0.007780  0.005178  -1.502479  0.132973\n",
      "11   t1  ~~   t1  0.096048  0.010925   8.791251       0.0\n",
      "12   t2  ~~   t2  0.093066   0.00742  12.542855       0.0\n",
      "13   t3  ~~   t3  0.085799  0.008474  10.124916       0.0\n",
      "14   t4  ~~   t4  0.082242  0.015285   5.380681       0.0\n",
      "                   Value\n",
      "DoF             3.000000\n",
      "DoF Baseline    6.000000\n",
      "chi2            0.000014\n",
      "chi2 p-value    1.000000\n",
      "chi2 Baseline   1.637312\n",
      "CFI             0.312354\n",
      "GFI             0.999992\n",
      "AGFI            0.999983\n",
      "NFI             0.999992\n",
      "TLI            -0.375293\n",
      "RMSEA           0.000000\n",
      "AIC            11.763439\n",
      "BIC            41.052481\n",
      "LogLik          1.118281\n",
      "  lval op rval  Estimate\n",
      "0   t1  ~    1  0.721658\n",
      "1   t2  ~    1  0.614248\n",
      "2   t3  ~    1  0.563058\n",
      "3   t4  ~    1  0.521828\n",
      "Iw    0.380454\n",
      "Sw    0.058121\n",
      "dtype: float64\n"
     ]
    }
   ],
   "source": [
    "# Read the CSV file using a relative path\n",
    "anx = pd.read_csv(\"../LSCM_and_GCM/Datasets/anx.csv\")\n",
    "#anx = anx - anx.mean()\n",
    "\n",
    "#anx.head()\n",
    "\n",
    "# Define the growth curve model\n",
    "GCM1 = '''\n",
    "Iw =~ 1.0*t1 + 1.0*t2 + 1.0*t3 + 1.0*t4\n",
    "Sw =~ 0*t1 + 1.0*t2 + 2.0*t3 + 3.0*t4\n",
    "\n",
    "t1 ~ 0*1\n",
    "t2 ~ 0*1\n",
    "t3 ~ 0*1\n",
    "t4 ~ 0*1\n",
    "\n",
    "'''\n",
    "\n",
    "# Create and fit the model\n",
    "model = ModelMeans(GCM1)\n",
    "\n",
    "# # Fit the model to the data\n",
    "results = model.fit(anx)\n",
    "# print(results)\n",
    "\n",
    "# # Print the standardized estimates\n",
    "estimates = (model.inspect())\n",
    "print(estimates)\n",
    "\n",
    "\n",
    "# # Print the fit measures\n",
    "fit_measures = calc_stats(model).T\n",
    "print(fit_measures)\n",
    "\n",
    "print(estimate_means(model))\n",
    "\n",
    "\n",
    "# Plot the path diagram inline\n",
    "semplot(model, plot_covs = True, filename=\"../LSCM_and_GCM/Datasets/GCM.pdf\") #Need graphViz installed\n",
    "\n",
    "latent_means = model.predict_factors(anx).mean()\n",
    "print(latent_means)\n",
    "\n"
   ]
  },
  {
   "cell_type": "code",
   "execution_count": 65,
   "metadata": {},
   "outputs": [
    {
     "ename": "KeyError",
     "evalue": "'Variables 0 are missing from data.'",
     "output_type": "error",
     "traceback": [
      "\u001b[1;31m---------------------------------------------------------------------------\u001b[0m",
      "\u001b[1;31mKeyError\u001b[0m                                  Traceback (most recent call last)",
      "Cell \u001b[1;32mIn[65], line 16\u001b[0m\n\u001b[0;32m     14\u001b[0m \u001b[38;5;66;03m# Fit the model\u001b[39;00m\n\u001b[0;32m     15\u001b[0m model \u001b[38;5;241m=\u001b[39m Model(GCM1)\n\u001b[1;32m---> 16\u001b[0m results \u001b[38;5;241m=\u001b[39m \u001b[43mmodel\u001b[49m\u001b[38;5;241;43m.\u001b[39;49m\u001b[43mfit\u001b[49m\u001b[43m(\u001b[49m\u001b[43manx\u001b[49m\u001b[43m)\u001b[49m\n\u001b[0;32m     18\u001b[0m \u001b[38;5;66;03m# Extract the parameter estimates\u001b[39;00m\n\u001b[0;32m     19\u001b[0m estimates \u001b[38;5;241m=\u001b[39m model\u001b[38;5;241m.\u001b[39minspect()\n",
      "File \u001b[1;32mc:\\Users\\danie\\Documents\\envPython\\psy112\\lib\\site-packages\\semopy\\model.py:1097\u001b[0m, in \u001b[0;36mModel.fit\u001b[1;34m(self, data, cov, obj, solver, groups, clean_slate, regularization, n_samples, **kwargs)\u001b[0m\n\u001b[0;32m   1054\u001b[0m \u001b[38;5;28;01mdef\u001b[39;00m\u001b[38;5;250m \u001b[39m\u001b[38;5;21mfit\u001b[39m(\u001b[38;5;28mself\u001b[39m, data\u001b[38;5;241m=\u001b[39m\u001b[38;5;28;01mNone\u001b[39;00m, cov\u001b[38;5;241m=\u001b[39m\u001b[38;5;28;01mNone\u001b[39;00m, obj\u001b[38;5;241m=\u001b[39m\u001b[38;5;124m'\u001b[39m\u001b[38;5;124mMLW\u001b[39m\u001b[38;5;124m'\u001b[39m, solver\u001b[38;5;241m=\u001b[39m\u001b[38;5;124m'\u001b[39m\u001b[38;5;124mSLSQP\u001b[39m\u001b[38;5;124m'\u001b[39m, groups\u001b[38;5;241m=\u001b[39m\u001b[38;5;28;01mNone\u001b[39;00m,\n\u001b[0;32m   1055\u001b[0m         clean_slate\u001b[38;5;241m=\u001b[39m\u001b[38;5;28;01mFalse\u001b[39;00m, regularization\u001b[38;5;241m=\u001b[39m\u001b[38;5;28;01mNone\u001b[39;00m, n_samples\u001b[38;5;241m=\u001b[39m\u001b[38;5;28;01mNone\u001b[39;00m, \u001b[38;5;241m*\u001b[39m\u001b[38;5;241m*\u001b[39mkwargs):\n\u001b[0;32m   1056\u001b[0m \u001b[38;5;250m    \u001b[39m\u001b[38;5;124;03m\"\"\"\u001b[39;00m\n\u001b[0;32m   1057\u001b[0m \u001b[38;5;124;03m    Fit model to data.\u001b[39;00m\n\u001b[0;32m   1058\u001b[0m \n\u001b[1;32m   (...)\u001b[0m\n\u001b[0;32m   1095\u001b[0m \n\u001b[0;32m   1096\u001b[0m \u001b[38;5;124;03m    \"\"\"\u001b[39;00m\n\u001b[1;32m-> 1097\u001b[0m     \u001b[38;5;28;43mself\u001b[39;49m\u001b[38;5;241;43m.\u001b[39;49m\u001b[43mload\u001b[49m\u001b[43m(\u001b[49m\u001b[43mdata\u001b[49m\u001b[38;5;241;43m=\u001b[39;49m\u001b[43mdata\u001b[49m\u001b[43m,\u001b[49m\u001b[43m \u001b[49m\u001b[43mcov\u001b[49m\u001b[38;5;241;43m=\u001b[39;49m\u001b[43mcov\u001b[49m\u001b[43m,\u001b[49m\u001b[43m \u001b[49m\u001b[43mgroups\u001b[49m\u001b[38;5;241;43m=\u001b[39;49m\u001b[43mgroups\u001b[49m\u001b[43m,\u001b[49m\n\u001b[0;32m   1098\u001b[0m \u001b[43m              \u001b[49m\u001b[43mclean_slate\u001b[49m\u001b[38;5;241;43m=\u001b[39;49m\u001b[43mclean_slate\u001b[49m\u001b[43m,\u001b[49m\u001b[43m \u001b[49m\u001b[43mn_samples\u001b[49m\u001b[38;5;241;43m=\u001b[39;49m\u001b[43mn_samples\u001b[49m\u001b[43m)\u001b[49m\n\u001b[0;32m   1099\u001b[0m     \u001b[38;5;28;01mif\u001b[39;00m obj \u001b[38;5;241m==\u001b[39m \u001b[38;5;124m'\u001b[39m\u001b[38;5;124mFIML\u001b[39m\u001b[38;5;124m'\u001b[39m:\n\u001b[0;32m   1100\u001b[0m         \u001b[38;5;28;01mif\u001b[39;00m \u001b[38;5;129;01mnot\u001b[39;00m \u001b[38;5;28mhasattr\u001b[39m(\u001b[38;5;28mself\u001b[39m, \u001b[38;5;124m'\u001b[39m\u001b[38;5;124mmx_data\u001b[39m\u001b[38;5;124m'\u001b[39m):\n",
      "File \u001b[1;32mc:\\Users\\danie\\Documents\\envPython\\psy112\\lib\\site-packages\\semopy\\model.py:1036\u001b[0m, in \u001b[0;36mModel.load\u001b[1;34m(self, data, cov, groups, clean_slate, n_samples)\u001b[0m\n\u001b[0;32m   1034\u001b[0m \u001b[38;5;28;01mif\u001b[39;00m missing:\n\u001b[0;32m   1035\u001b[0m     t \u001b[38;5;241m=\u001b[39m \u001b[38;5;124m'\u001b[39m\u001b[38;5;124m, \u001b[39m\u001b[38;5;124m'\u001b[39m\u001b[38;5;241m.\u001b[39mjoin(missing)\n\u001b[1;32m-> 1036\u001b[0m     \u001b[38;5;28;01mraise\u001b[39;00m \u001b[38;5;167;01mKeyError\u001b[39;00m(\u001b[38;5;124m'\u001b[39m\u001b[38;5;124mVariables \u001b[39m\u001b[38;5;132;01m{}\u001b[39;00m\u001b[38;5;124m are missing from data.\u001b[39m\u001b[38;5;124m'\u001b[39m\u001b[38;5;241m.\u001b[39mformat(t))\n\u001b[0;32m   1037\u001b[0m \u001b[38;5;28;01mif\u001b[39;00m data \u001b[38;5;129;01mis\u001b[39;00m \u001b[38;5;129;01mnot\u001b[39;00m \u001b[38;5;28;01mNone\u001b[39;00m:\n\u001b[0;32m   1038\u001b[0m     \u001b[38;5;28mself\u001b[39m\u001b[38;5;241m.\u001b[39mload_data(data, covariance\u001b[38;5;241m=\u001b[39mcov, groups\u001b[38;5;241m=\u001b[39mgroups)\n",
      "\u001b[1;31mKeyError\u001b[0m: 'Variables 0 are missing from data.'"
     ]
    }
   ],
   "source": [
    "from semopy import Model\n",
    "import pandas as pd\n",
    "\n",
    "anx = pd.read_csv(\"../LSCM_and_GCM/Datasets/anx.csv\")\n",
    "# Define the growth curve model\n",
    "GCM1 = '''\n",
    "Iw =~ 1*t1 + 1*t2 + 1*t3 + 1*t4\n",
    "Sw =~ 0*t1 + 1*t2 + 2*t3 + 3*t4\n",
    "\n",
    "# Fix the intercept of t1 to 0 to identify the model\n",
    "t1 ~ 0\n",
    "'''\n",
    "\n",
    "# Fit the model\n",
    "model = Model(GCM1)\n",
    "results = model.fit(anx)\n",
    "\n",
    "# Extract the parameter estimates\n",
    "estimates = model.inspect()\n",
    "\n",
    "# Show the intercepts for observed variables and latent factors\n",
    "print(estimates[estimates['op'] == '~1'])  # Intercepts for observed variables\n",
    "print(estimates[estimates['op'] == '=~'])  # Loadings for latent factors\n",
    "\n",
    "# To manually compute the latent intercepts, you'd use the factor loadings and observed means\n"
   ]
  },
  {
   "cell_type": "code",
   "execution_count": 44,
   "metadata": {},
   "outputs": [
    {
     "name": "stdout",
     "output_type": "stream",
     "text": [
      "  lval op rval  Estimate\n",
      "0   x1  ~    1 -0.043750\n",
      "1   x2  ~    1  0.073704\n",
      "2   x3  ~    1 -0.056712\n",
      "3   y1  ~    1 -1.456624\n",
      "4   y2  ~    1  0.929309\n",
      "5   y3  ~    1  0.992039\n",
      "y1, y2, y3 ~ x1 + x2 + x3\n"
     ]
    }
   ],
   "source": [
    "from semopy.examples import \\\n",
    "     multivariate_regression\n",
    "from semopy.means import estimate_means\n",
    "from semopy import Model\n",
    "desc = multivariate_regression.get_model()\n",
    "data = multivariate_regression.get_data()\n",
    "\n",
    "model = Model(desc)\n",
    "model.fit(data)\n",
    "print(estimate_means(model))\n",
    "print(desc)"
   ]
  }
 ],
 "metadata": {
  "kernelspec": {
   "display_name": "psy112",
   "language": "python",
   "name": "python3"
  },
  "language_info": {
   "codemirror_mode": {
    "name": "ipython",
    "version": 3
   },
   "file_extension": ".py",
   "mimetype": "text/x-python",
   "name": "python",
   "nbconvert_exporter": "python",
   "pygments_lexer": "ipython3",
   "version": "3.9.7"
  }
 },
 "nbformat": 4,
 "nbformat_minor": 2
}
