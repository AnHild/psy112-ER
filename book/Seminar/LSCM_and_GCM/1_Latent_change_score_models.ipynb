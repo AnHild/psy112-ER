{
 "cells": [
  {
   "cell_type": "markdown",
   "metadata": {},
   "source": [
    "## Latent Change Score Models (LCSMs)\n",
    "\n",
    "### 1. Introduction\n",
    "LCSMs represent a powerful extension of the manifest-level change score models covered in the previous tutorial. The main difference between these two classes of models is the inclusion of **latent variables** for which we aim to estimate the change. The distinction between manifest (observed) and latent variables is crucial as it represents one of the core advantages of using structural equation modeling (SEM) in general. When estimating latent variables measured by a set of indicators (observed variables at the measurement level), we are correcting for **measurement error**. In other words, by including latent variables in our analyses, we achieve results at the \"true\" score level. Consequently, with LCSMs we can assess the change of the true score on a given construct over time. \n"
   ]
  },
  {
   "cell_type": "code",
   "execution_count": 2,
   "metadata": {},
   "outputs": [],
   "source": [
    "import warnings\n",
    "warnings.filterwarnings('ignore')\n",
    "\n",
    "import pandas as pd\n",
    "import seaborn as sns\n",
    "import matplotlib.pyplot as plt\n",
    "from semopy import Model, ModelMeans, semplot, calc_stats\n",
    "from semopy import ModelMeans\n",
    "from semopy.means import estimate_means"
   ]
  },
  {
   "cell_type": "markdown",
   "metadata": {},
   "source": [
    "### 2. Working Example 1\n",
    "\n",
    "`fairplayer` is a data frame that contains information from a research project targeting **bullying** in a school: The variable names consist of one letter indicating the measurement source (s: self-report, t: teacher-report), two letters indicating each construct being measured (EM: empathy, RA: relational aggression, SI: social intelligence), a number indicating the item number on the scale, and a \"t\" followed by a number indicating the measurement occasion (time-point) (for more details see https://rdrr.io/cran/stuart/man/fairplayer.html). In addition, the variables IGS (short intervention) and IGL (long intervention) represent the kind of intervention groups to which the students belonged. These variables are dummy coded with 1 representing membership and 0 representing no membership. Thus, students with a 0 in both variables belong to the control group and did not experience any intervention. \n",
    "\n",
    "In other words, we have a data frame including 3 outcome variables (EM: empathy, RA: relational aggression, SI: social intelligence) measured by 2 different methods (self-report or teacher-report). 3 time-points (measurement occasions) for 3 different groups (1 control and 2 intervention groups). \n",
    "\n",
    "Please inspect the data frame to get familiar with the information that is included. Understanding the information in this data frame will help you to follow the modeling procedure. "
   ]
  },
  {
   "cell_type": "code",
   "execution_count": 3,
   "metadata": {},
   "outputs": [
    {
     "name": "stdout",
     "output_type": "stream",
     "text": [
      "   ratee  IGL  IGS  sEM01at1  sEM02at1  sEM03at1  tEM01at1  tEM02at1  \\\n",
      "1    1.0  1.0  0.0  3.666667  3.333333       4.5  4.666667  3.666667   \n",
      "2    2.0  1.0  0.0  3.666667  4.333333       3.5  4.333333  4.000000   \n",
      "3    3.0  1.0  0.0  3.000000  2.666667       2.5  4.333333  3.666667   \n",
      "4    4.0  1.0  0.0  4.666667  4.666667       5.0  3.333333  3.333333   \n",
      "5    5.0  1.0  0.0  3.000000  3.000000       3.5  1.333333  2.333333   \n",
      "\n",
      "   tEM03at1  sEM01at2  ...  sRA03at2  tRA01at2  tRA02at2  tRA03at2  sRA01at3  \\\n",
      "1       5.0  3.666667  ...       1.0       1.0       2.0       1.0       1.0   \n",
      "2       4.0  4.666667  ...       1.0       1.0       2.0       1.0       1.0   \n",
      "3       4.0  2.666667  ...       1.0       1.0       1.5       1.0       1.5   \n",
      "4       3.0  4.666667  ...       1.0       2.5       3.0       1.0       1.0   \n",
      "5       1.0  3.000000  ...       1.0       2.0       3.0       2.0       1.5   \n",
      "\n",
      "   sRA02at3  sRA03at3  tRA01at3  tRA02at3  tRA03at3  \n",
      "1       2.5       1.0       1.0       2.0       1.0  \n",
      "2       1.0       1.0       1.0       1.5       1.0  \n",
      "3       2.0       2.0       1.0       1.5       1.0  \n",
      "4       1.5       1.0       2.0       3.0       2.0  \n",
      "5       1.0       1.0       2.0       2.0       2.0  \n",
      "\n",
      "[5 rows x 57 columns]\n"
     ]
    }
   ],
   "source": [
    "# Read the CSV file using a relative path\n",
    "fairplayer = pd.read_csv(\"../LSCM_and_GCM/Datasets/fairplayer.csv\")\n",
    "\n",
    "# Display the first few rows of the dataframe\n",
    "print(fairplayer.head())"
   ]
  },
  {
   "cell_type": "markdown",
   "metadata": {},
   "source": [
    "### 3. Model specification\n",
    "\n",
    "Recall what you learned in the last tutorial. The only difference in specification of LCSMs as compared to CSMs is that we need to define latent variables measured by their multiple indicators (thus, the measurement models). Accordingly, we must specify factor loadings for the construct of interest. In addition, the latent **- now second order -** change score factor will be regressed onto the time 1 latent factor and explain variance in the time 2 latent factor. \n",
    "\n",
    "In the following example we are interested in assessing the change in *empathy* from time-point 1 to time-point 2. We fir the model using `semopy`"
   ]
  },
  {
   "cell_type": "code",
   "execution_count": 6,
   "metadata": {},
   "outputs": [
    {
     "name": "stdout",
     "output_type": "stream",
     "text": [
      "        lval  op      rval   Estimate  Std. Err    z-value   p-value\n",
      "0       emp2   ~    change   1.000000         -          -         -\n",
      "1       emp2   ~      emp1   1.000000         -          -         -\n",
      "2   sEM01at1   ~      emp1   1.000000         -          -         -\n",
      "3   sEM02at1   ~      emp1   0.741699  0.013576  54.633406       0.0\n",
      "4   sEM03at1   ~      emp1   0.910383  0.015046  60.507091       0.0\n",
      "5   sEM01at2   ~      emp2   1.000000         -          -         -\n",
      "6   sEM02at2   ~      emp2   0.841642  0.012132   69.37182       0.0\n",
      "7   sEM03at2   ~      emp2   0.871745  0.014296  60.980294       0.0\n",
      "8   sEM01at2   ~         1   0.000000         -          -         -\n",
      "9   sEM01at1   ~         1   0.000000         -          -         -\n",
      "10  sEM02at1   ~         1   0.936956  0.049753   18.83228       0.0\n",
      "11  sEM02at2   ~         1   0.440179   0.04456   9.878345       0.0\n",
      "12  sEM03at1   ~         1   0.258395  0.054129   4.773681  0.000002\n",
      "13  sEM03at2   ~         1   0.405653  0.053703   7.553618       0.0\n",
      "14      emp2  ~~      emp2   0.000000         -          -         -\n",
      "15    change  ~~      emp1   0.257011  0.245353   1.047515  0.294862\n",
      "16    change  ~~    change   0.111677   0.04018   2.779451  0.005445\n",
      "17      emp1  ~~      emp1  15.632859  1.875962   8.333249       0.0\n",
      "18  sEM01at1  ~~  sEM01at1   0.229422  0.040719   5.634311       0.0\n",
      "19  sEM01at2  ~~  sEM01at2   0.206714  0.036674   5.636522       0.0\n",
      "20  sEM02at1  ~~  sEM02at1   0.282633  0.038974   7.251817       0.0\n",
      "21  sEM02at2  ~~  sEM02at2   0.192770  0.030464   6.327711       0.0\n",
      "22  sEM03at1  ~~  sEM03at1   0.311507  0.045905   6.785908       0.0\n",
      "23  sEM03at2  ~~  sEM03at2   0.314609  0.044425    7.08183       0.0\n",
      "                   Value\n",
      "DoF             4.000000\n",
      "DoF Baseline   11.000000\n",
      "chi2            3.466583\n",
      "chi2 p-value    0.482978\n",
      "chi2 Baseline   8.446508\n",
      "CFI             0.791103\n",
      "GFI             0.589584\n",
      "AGFI           -0.128644\n",
      "NFI             0.589584\n",
      "TLI             0.425533\n",
      "RMSEA           0.000000\n",
      "AIC            27.459838\n",
      "BIC            77.828196\n",
      "LogLik          3.270081\n"
     ]
    }
   ],
   "source": [
    "# Read the CSV file using a relative path\n",
    "fairplayer = pd.read_csv(\"../LSCM_and_GCM/Datasets/fairplayer.csv\")\n",
    "\n",
    "# Define the latent change score model with comments\n",
    "lcsm = '''\n",
    "# Defining a latent variable representing the construct Empathy at time 1 \n",
    "emp1 =~ sEM01at1 + sEM02at1 + sEM03at1  \n",
    "\n",
    "# Defining a latent variable representing the construct Empathy at time 2\n",
    "emp2 =~ sEM01at2 + sEM02at2 + sEM03at2 \n",
    "\n",
    "# Fixing the change score loading to 1\n",
    "change =~ 1*emp2\n",
    "\n",
    "# Fixing the regression of time 2 on time 1 to 1\n",
    "emp2 ~ 1*emp1\n",
    "\n",
    "# Fixing post-intervention score residual variance to 0\n",
    "emp2 ~~ 0*emp2  \n",
    "\n",
    "# Fixing the intercept of one indicator per time-point to 0 to identify the mean structure\n",
    "sEM01at2 ~ 0*1\n",
    "sEM01at1 ~ 0*1\n",
    "\n",
    "# Freely estimate the means of the change score phantom variable and the baseline (time 1). Per default, these are fixed to zero in lavaan\n",
    "#change ~ 1 \n",
    "#emp1 ~ 1\n",
    "\n",
    "# Specify a covariance between the change score latent variable and the baseline (time 1)\n",
    "change ~~ emp1\n",
    "'''\n",
    "\n",
    "# Create and fit the model\n",
    "model = ModelMeans(lcsm)\n",
    "\n",
    "# Fit the model to the data\n",
    "results = model.fit(fairplayer)\n",
    "\n",
    "# Print the standardized estimates\n",
    "estimates = model.inspect()\n",
    "print(estimates)\n",
    "\n",
    "# Print the fit measures\n",
    "fit_measures = calc_stats(model).T\n",
    "print(fit_measures)"
   ]
  },
  {
   "cell_type": "markdown",
   "metadata": {},
   "source": [
    "### 4. Output Interpretation\n",
    "\n",
    "The interpretation very similar to the one correponding to CSMs:\n",
    "\n",
    "* The \"change\" Intercept estimate (0.083) informs us about the change in empathy between the 2 measurement timepoints. This indicates that there was an increase in empathy on average, but it was not significant (p = 0.238).\n",
    "\n",
    "* The variance estimate of \"change\" corresponds to 0.095 and is significant (p = 0.002), indicating that individuals substantially differ in their empathy change over time. \n",
    "\n",
    "* A negative covariance between \"change\" and emp1 (-0.036) means that students with lower empathy at time 1 experienced stronger change than those with higher empathy scores. However, this covariance is not significant (p = 0.370).\n",
    "\n",
    "* Finally, the intercept estimate of emp1 tells us that at time 1, the average empathy score in the sample was 3.883."
   ]
  },
  {
   "cell_type": "markdown",
   "metadata": {},
   "source": [
    "### 5. Autoregressive effects and measurement invariance\n",
    "\n",
    "Whenever measuring a construct on more than one occasion and across more than one group, it is important to assess **measurement invariance** over time and group. That is, we have to make sure that we are measuring the same construct in all groups and measurement time-points. A failure to establish measurement invariance may compromise the results, because direct comparisons are doubtful if the construct measurement turns out to be non-equivalent (see lecture Test Theory and Test Construction for details, explaining that apples and oranges are not directly comparable). LCSMs allow us to test  measurement invariance by inferentially comparing models in which measurement invariance is assumed versus not assumed. \n",
    "\n",
    "In the following model specification, we assume measurement invariance. We thus fix factor loadings of the same indicator over time to equivalence. Furthermore, by correlating each indicator's error terms with itself in the next measurement time-point, we can account for autoregressive effects that are due to the measurement repetition and not to the stability of the construct over time. "
   ]
  },
  {
   "cell_type": "code",
   "execution_count": null,
   "metadata": {},
   "outputs": [],
   "source": [
    "# Define the latent change score model with comments\n",
    "lcsm_b = '''\n",
    "# Defining a latent variable representing empathy at time 1 \n",
    "emp1 =~ a*sEM01at1 + b*sEM02at1 + c*sEM03at1 \n",
    "\n",
    "# Defining a latent variable representing empathy at time 2\n",
    "# a*, b* and c* indicate that the loading of the same indicator over time is fixed to equivalence with time 1\n",
    "emp2 =~ a*sEM01at2 + b*sEM02at2 + c*sEM03at2 \n",
    "\n",
    "# Fixing the loading of the change score to 1\n",
    "change =~ 1*emp2\n",
    "\n",
    "# Fixing the regression of time 2 on time 1 empathy to 1\n",
    "emp2 ~ 1*emp1\n",
    "\n",
    "# Fixing the residual variance of the post-intervention score to 0\n",
    "emp2 ~~ 0*emp2  \n",
    "\n",
    "# Fixing the intercept of one indicator per timepoint to 0 in order to identify the mean structure\n",
    "sEM01at2 ~ 0*1\n",
    "sEM01at1 ~ 0*1\n",
    "\n",
    "# Freely estimate phantom variable and baseline means. Per default, lavaan would fix them to 0\n",
    "change ~ 1 \n",
    "emp1 ~ 1\n",
    "\n",
    "# Include covariance between change score variable and baseline\n",
    "change ~~ emp1\n",
    "\n",
    "# Autoregressive effects\n",
    "sEM01at1 ~~ sEM01at2\n",
    "sEM02at1 ~~ sEM02at2\n",
    "sEM03at1 ~~ sEM03at2\n",
    "'''\n",
    "\n",
    "# Create and fit the model\n",
    "model = ModelMeans(lcsm_b)\n",
    "\n",
    "# Fit the model to the data\n",
    "results = model.fit(fairplayer)\n",
    "\n",
    "# Print the standardized estimates\n",
    "estimates = model.inspect()\n",
    "print(estimates)\n",
    "\n",
    "# Print the fit measures\n",
    "fit_measures = calc_stats(model).T\n",
    "print(fit_measures)"
   ]
  },
  {
   "cell_type": "markdown",
   "metadata": {},
   "source": [
    "### 6. Output Interpretation\n",
    "\n",
    "The fit indices reveal that the model that accounts for **autoregressive effects** over time fits the data better than the one without such effects (see the model *lcsm*). Fit indices such as Chi-square, comparative fit index (CFI) and Tucker-Lewis Index (TLI) improved when accounting for autoregressive effects. Additionally, in the above specified model we assumed loading invariance which did not significantly deteriorate the fit, so we can assume measurement invariance."
   ]
  }
 ],
 "metadata": {
  "kernelspec": {
   "display_name": "psy112",
   "language": "python",
   "name": "python3"
  },
  "language_info": {
   "codemirror_mode": {
    "name": "ipython",
    "version": 3
   },
   "file_extension": ".py",
   "mimetype": "text/x-python",
   "name": "python",
   "nbconvert_exporter": "python",
   "pygments_lexer": "ipython3",
   "version": "3.9.7"
  }
 },
 "nbformat": 4,
 "nbformat_minor": 2
}
