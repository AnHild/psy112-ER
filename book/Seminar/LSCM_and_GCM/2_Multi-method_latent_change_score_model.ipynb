{
 "cells": [
  {
   "cell_type": "markdown",
   "metadata": {},
   "source": [
    "## Multi-method/group/trait latent change score models\n",
    "\n",
    "### 1. Introduction\n",
    "So far we have seen some very important features of SEM and advantages over other methods to investigate change. However, this is only the tip of the iceberg and SEM offers plenty of capabilities to address more research questions. In order to keep this tutorial short we do not cover all of these capabilities in detail but we illustrate some of them with a short example: \n",
    "\n",
    "Imagine that, in addition to the conclusions reached with the previous models, you want to determine: \n",
    "\n",
    "- The deviation from change in empathy measured by self reports when empathy is measured by teacher reports. \n",
    "\n",
    "- Group differences in this deviation and in the previous questions. In particular, you want to assess differences between the **control** and the **long intervention** groups.\n",
    "\n",
    "In the past we have included a \"dummy-coded\" group variable to assess group differences. In dummy regression we can solely assess group differences in mean change and baseline (time-point 1 empathy in our case). However, if we apply a **multiple group model** that simultaneously fits the two group-specific covariance matrices, we can additionally investigate whether the magnitude of **individual differences in change** differs across the two groups. Furthermore, we can investigate measurement invariance not only over time, but also between groups. In summary, a multi-group model allows us to compare the intervention vs. control group with respect to any model parameter estimated that we might wish to compare.  "
   ]
  },
  {
   "cell_type": "code",
   "execution_count": 1,
   "metadata": {},
   "outputs": [],
   "source": [
    "import warnings\n",
    "warnings.filterwarnings('ignore')\n",
    "\n",
    "import pandas as pd\n",
    "import seaborn as sns\n",
    "import matplotlib.pyplot as plt\n",
    "from semopy import Model, ModelMeans, semplot, calc_stats\n",
    "from semopy import ModelMeans\n",
    "from semopy.means import estimate_means"
   ]
  }
 ],
 "metadata": {
  "kernelspec": {
   "display_name": "psy112",
   "language": "python",
   "name": "python3"
  },
  "language_info": {
   "codemirror_mode": {
    "name": "ipython",
    "version": 3
   },
   "file_extension": ".py",
   "mimetype": "text/x-python",
   "name": "python",
   "nbconvert_exporter": "python",
   "pygments_lexer": "ipython3",
   "version": "3.9.7"
  }
 },
 "nbformat": 4,
 "nbformat_minor": 2
}
