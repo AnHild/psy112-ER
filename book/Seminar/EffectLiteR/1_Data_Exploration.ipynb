{
 "cells": [
  {
   "cell_type": "markdown",
   "metadata": {},
   "source": [
    "## Data Exploration\n",
    "\n",
    "In this session we will work with one data frame:\n",
    "\n",
    "The built-in `sophonet_data_simulated` data frame contains information from a project investigating the effects of a cognitive-behavioral therapy (CBT) and a short-term psychodynamic psychotherapy (STPP) on social phobia. The project included 328 participants allocated to two groups (\"tb\" = CBT or \"tb\" = STPP), representing cognitive-behavioral therapy and short-term psychodynamic psychotherapy. The study followed a prestest-postest design. Therefore, the outcome variable social phobia (measured by two item parcels: lsas.a and lsas.v) was assessed on two different measurement occasions. In the present data case, lsas.a is an item parcel resulting from averaging over 24 items. Further variables will be described as we advance. The `sophonet_data_simulated` is a built-in data frame from `EffectLiteR`, so it is accessible by simply typing its name in RStudio. However, I provide this data frame as a .csv file with the aim of illustrating a full analysis pipeline.\n",
    "\n",
    "Note: An item parcel corresponds to the average of two or more item scores from a given test with the aim of constructing more reliable indicators that can be used to identify latent variables in a Structural Equation Model (SEM). In other words, an item parcel is an aggregated indicator, resulting from averaging over two or more item scores (eliminate some measurement noise by averaging).\n",
    "\n",
    "Feel free to inspect the data frame in the next code chunk."
   ]
  },
  {
   "cell_type": "code",
   "execution_count": null,
   "metadata": {},
   "outputs": [],
   "source": [
    "import warnings\n",
    "warnings.filterwarnings('ignore')\n",
    "\n",
    "import pandas as pd\n",
    "import seaborn as sns\n",
    "import matplotlib.pyplot as plt\n",
    "\n",
    "# Read the CSV file using a relative path\n",
    "effects = pd.read_csv(\"../EffectLiteR/Datasets/ELR-ConditionalEffects-2021-06-08.txt\", sep='\\s+')\n",
    "effects.head()"
   ]
  }
 ],
 "metadata": {
  "kernelspec": {
   "display_name": "psy112",
   "language": "python",
   "name": "python3"
  },
  "language_info": {
   "codemirror_mode": {
    "name": "ipython",
    "version": 3
   },
   "file_extension": ".py",
   "mimetype": "text/x-python",
   "name": "python",
   "nbconvert_exporter": "python",
   "pygments_lexer": "ipython3",
   "version": "3.9.7"
  }
 },
 "nbformat": 4,
 "nbformat_minor": 2
}
